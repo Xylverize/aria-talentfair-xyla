{
 "cells": [
  {
   "cell_type": "code",
   "execution_count": 1,
   "metadata": {},
   "outputs": [],
   "source": [
    "# Import Libraries\n",
    "\n",
    "import pickle\n",
    "import json\n",
    "import pandas as pd\n",
    "import numpy as np"
   ]
  },
  {
   "cell_type": "code",
   "execution_count": 9,
   "metadata": {},
   "outputs": [],
   "source": [
    "# Load All Files\n",
    "\n",
    "with open('model_forest_tuning.pkl', 'rb') as file_model:\n",
    "  model_forest = pickle.load(file_model)\n",
    "\n",
    "with open('scaler.pkl', 'rb') as file_scaler:\n",
    "  model_scaler = pickle.load(file_scaler)\n",
    "\n",
    "with open('list_num_cols.txt', 'r') as file_num:\n",
    "  list_num_cols = json.load(file_num)\n"
   ]
  },
  {
   "cell_type": "code",
   "execution_count": 171,
   "metadata": {},
   "outputs": [
    {
     "data": {
      "text/html": [
       "<div>\n",
       "<style scoped>\n",
       "    .dataframe tbody tr th:only-of-type {\n",
       "        vertical-align: middle;\n",
       "    }\n",
       "\n",
       "    .dataframe tbody tr th {\n",
       "        vertical-align: top;\n",
       "    }\n",
       "\n",
       "    .dataframe thead th {\n",
       "        text-align: right;\n",
       "    }\n",
       "</style>\n",
       "<table border=\"1\" class=\"dataframe\">\n",
       "  <thead>\n",
       "    <tr style=\"text-align: right;\">\n",
       "      <th></th>\n",
       "      <th>v1</th>\n",
       "      <th>v2</th>\n",
       "      <th>v3</th>\n",
       "      <th>v4</th>\n",
       "      <th>v5</th>\n",
       "      <th>v6</th>\n",
       "      <th>v7</th>\n",
       "      <th>v8</th>\n",
       "    </tr>\n",
       "  </thead>\n",
       "  <tbody>\n",
       "    <tr>\n",
       "      <th>0</th>\n",
       "      <td>525.333333</td>\n",
       "      <td>195.066667</td>\n",
       "      <td>591.866667</td>\n",
       "      <td>382.733333</td>\n",
       "      <td>478.6</td>\n",
       "      <td>180.466667</td>\n",
       "      <td>677.2</td>\n",
       "      <td>4850.6</td>\n",
       "    </tr>\n",
       "  </tbody>\n",
       "</table>\n",
       "</div>"
      ],
      "text/plain": [
       "           v1          v2          v3          v4     v5          v6     v7  \\\n",
       "0  525.333333  195.066667  591.866667  382.733333  478.6  180.466667  677.2   \n",
       "\n",
       "       v8  \n",
       "0  4850.6  "
      ]
     },
     "execution_count": 171,
     "metadata": {},
     "output_type": "execute_result"
    }
   ],
   "source": [
    "## Data dummy\n",
    "data_inf = {\n",
    "    'v1': 525.333333,\n",
    "    'v2': 195.066667,\n",
    "    'v3': 591.866667,\n",
    "    'v4': 382.733333,\n",
    "    'v5': 478.600000,\n",
    "    'v6': 180.466667, \n",
    "    'v7': 677.200000,\n",
    "    'v8': 4850.600000    \n",
    "}\n",
    "\n",
    "data_inf = pd.DataFrame([data_inf])\n",
    "data_inf"
   ]
  },
  {
   "cell_type": "code",
   "execution_count": 172,
   "metadata": {},
   "outputs": [
    {
     "data": {
      "text/html": [
       "<div>\n",
       "<style scoped>\n",
       "    .dataframe tbody tr th:only-of-type {\n",
       "        vertical-align: middle;\n",
       "    }\n",
       "\n",
       "    .dataframe tbody tr th {\n",
       "        vertical-align: top;\n",
       "    }\n",
       "\n",
       "    .dataframe thead th {\n",
       "        text-align: right;\n",
       "    }\n",
       "</style>\n",
       "<table border=\"1\" class=\"dataframe\">\n",
       "  <thead>\n",
       "    <tr style=\"text-align: right;\">\n",
       "      <th></th>\n",
       "      <th>v1</th>\n",
       "      <th>v2</th>\n",
       "      <th>v3</th>\n",
       "      <th>v4</th>\n",
       "      <th>v5</th>\n",
       "      <th>v6</th>\n",
       "      <th>v7</th>\n",
       "      <th>v8</th>\n",
       "    </tr>\n",
       "  </thead>\n",
       "  <tbody>\n",
       "    <tr>\n",
       "      <th>0</th>\n",
       "      <td>525.333333</td>\n",
       "      <td>195.066667</td>\n",
       "      <td>591.866667</td>\n",
       "      <td>382.733333</td>\n",
       "      <td>478.6</td>\n",
       "      <td>180.466667</td>\n",
       "      <td>677.2</td>\n",
       "      <td>4850.6</td>\n",
       "    </tr>\n",
       "  </tbody>\n",
       "</table>\n",
       "</div>"
      ],
      "text/plain": [
       "           v1          v2          v3          v4     v5          v6     v7  \\\n",
       "0  525.333333  195.066667  591.866667  382.733333  478.6  180.466667  677.2   \n",
       "\n",
       "       v8  \n",
       "0  4850.6  "
      ]
     },
     "execution_count": 172,
     "metadata": {},
     "output_type": "execute_result"
    }
   ],
   "source": [
    "data_inf_num = data_inf[list_num_cols]\n",
    "data_inf_num"
   ]
  },
  {
   "cell_type": "code",
   "execution_count": 173,
   "metadata": {},
   "outputs": [],
   "source": [
    "data_inf_num_scaled = model_scaler.transform(data_inf_num)"
   ]
  },
  {
   "cell_type": "code",
   "execution_count": 174,
   "metadata": {},
   "outputs": [],
   "source": [
    "data_inf_scaled = model_scaler.transform(data_inf_num)\n"
   ]
  },
  {
   "cell_type": "code",
   "execution_count": 175,
   "metadata": {},
   "outputs": [
    {
     "data": {
      "text/plain": [
       "array([5.02970833])"
      ]
     },
     "execution_count": 175,
     "metadata": {},
     "output_type": "execute_result"
    }
   ],
   "source": [
    "y_pred_inf = model_forest.predict(data_inf_scaled)\n",
    "y_pred_inf"
   ]
  }
 ],
 "metadata": {
  "kernelspec": {
   "display_name": "Python 3",
   "language": "python",
   "name": "python3"
  },
  "language_info": {
   "codemirror_mode": {
    "name": "ipython",
    "version": 3
   },
   "file_extension": ".py",
   "mimetype": "text/x-python",
   "name": "python",
   "nbconvert_exporter": "python",
   "pygments_lexer": "ipython3",
   "version": "3.10.5"
  },
  "orig_nbformat": 4,
  "vscode": {
   "interpreter": {
    "hash": "aa24d1753723fb44936862a0479a9c898341c4bbf00849cc75b84e50be8d531a"
   }
  }
 },
 "nbformat": 4,
 "nbformat_minor": 2
}
