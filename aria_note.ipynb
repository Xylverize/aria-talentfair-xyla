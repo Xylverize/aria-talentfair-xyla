{
 "cells": [
  {
   "attachments": {},
   "cell_type": "markdown",
   "metadata": {},
   "source": [
    "### Title\n",
    "### Talent Fair Aria Dataset"
   ]
  },
  {
   "attachments": {},
   "cell_type": "markdown",
   "metadata": {},
   "source": [
    "### Introduction\n",
    "### Xyla \n",
    "\n",
    "Dengan dataset yang telah diberikan saya akan memprediksi target dengan variabel yang telah diberikan dan membandingkan antara sample dari lab 1 dan lab 2"
   ]
  },
  {
   "attachments": {},
   "cell_type": "markdown",
   "metadata": {},
   "source": [
    "### External Link\n",
    "- "
   ]
  },
  {
   "attachments": {},
   "cell_type": "markdown",
   "metadata": {},
   "source": [
    "### Working Area"
   ]
  },
  {
   "cell_type": "code",
   "execution_count": 1,
   "metadata": {},
   "outputs": [],
   "source": [
    "import numpy as np\n",
    "import pandas as pd\n",
    "import matplotlib.pyplot as plt\n",
    "import seaborn as sns\n",
    "\n",
    "from sklearn.pipeline import Pipeline\n",
    "from sklearn.preprocessing import StandardScaler\n",
    "from sklearn.linear_model import LinearRegression\n",
    "from sklearn.tree import DecisionTreeRegressor\n",
    "from sklearn.ensemble import RandomForestRegressor\n",
    "from xgboost import XGBRegressor\n",
    "from feature_engine.outliers import Winsorizer\n",
    "from sklearn.model_selection import train_test_split\n",
    "from sklearn.ensemble import ExtraTreesRegressor\n",
    "\n",
    "from sklearn.metrics import mean_absolute_error,mean_squared_error,r2_score\n",
    "from sklearn.model_selection import GridSearchCV\n",
    "from sklearn.model_selection import cross_val_score\n",
    "import ast\n",
    "import pickle"
   ]
  },
  {
   "attachments": {},
   "cell_type": "markdown",
   "metadata": {},
   "source": [
    "### Data Loading\n"
   ]
  },
  {
   "cell_type": "code",
   "execution_count": 2,
   "metadata": {},
   "outputs": [
    {
     "data": {
      "text/html": [
       "<div>\n",
       "<style scoped>\n",
       "    .dataframe tbody tr th:only-of-type {\n",
       "        vertical-align: middle;\n",
       "    }\n",
       "\n",
       "    .dataframe tbody tr th {\n",
       "        vertical-align: top;\n",
       "    }\n",
       "\n",
       "    .dataframe thead th {\n",
       "        text-align: right;\n",
       "    }\n",
       "</style>\n",
       "<table border=\"1\" class=\"dataframe\">\n",
       "  <thead>\n",
       "    <tr style=\"text-align: right;\">\n",
       "      <th></th>\n",
       "      <th>target</th>\n",
       "      <th>v1</th>\n",
       "      <th>v2</th>\n",
       "      <th>v3</th>\n",
       "      <th>v4</th>\n",
       "      <th>v5</th>\n",
       "      <th>v6</th>\n",
       "      <th>v7</th>\n",
       "      <th>v8</th>\n",
       "      <th>sample_type</th>\n",
       "    </tr>\n",
       "  </thead>\n",
       "  <tbody>\n",
       "    <tr>\n",
       "      <th>0</th>\n",
       "      <td>4.63</td>\n",
       "      <td>260.600000</td>\n",
       "      <td>199.000000</td>\n",
       "      <td>391.333333</td>\n",
       "      <td>371.733333</td>\n",
       "      <td>466.800000</td>\n",
       "      <td>273.133333</td>\n",
       "      <td>742.066667</td>\n",
       "      <td>4047.733333</td>\n",
       "      <td>lab 1</td>\n",
       "    </tr>\n",
       "    <tr>\n",
       "      <th>1</th>\n",
       "      <td>5.00</td>\n",
       "      <td>263.200000</td>\n",
       "      <td>194.600000</td>\n",
       "      <td>393.666667</td>\n",
       "      <td>348.533333</td>\n",
       "      <td>401.800000</td>\n",
       "      <td>220.066667</td>\n",
       "      <td>712.000000</td>\n",
       "      <td>4673.466667</td>\n",
       "      <td>lab 1</td>\n",
       "    </tr>\n",
       "    <tr>\n",
       "      <th>2</th>\n",
       "      <td>4.91</td>\n",
       "      <td>247.266667</td>\n",
       "      <td>205.800000</td>\n",
       "      <td>375.466667</td>\n",
       "      <td>354.866667</td>\n",
       "      <td>419.000000</td>\n",
       "      <td>222.133333</td>\n",
       "      <td>677.200000</td>\n",
       "      <td>4386.800000</td>\n",
       "      <td>lab 1</td>\n",
       "    </tr>\n",
       "    <tr>\n",
       "      <th>3</th>\n",
       "      <td>4.77</td>\n",
       "      <td>257.944444</td>\n",
       "      <td>191.833333</td>\n",
       "      <td>368.722222</td>\n",
       "      <td>334.666667</td>\n",
       "      <td>417.222222</td>\n",
       "      <td>195.944444</td>\n",
       "      <td>678.555556</td>\n",
       "      <td>4588.777778</td>\n",
       "      <td>lab 1</td>\n",
       "    </tr>\n",
       "    <tr>\n",
       "      <th>4</th>\n",
       "      <td>4.89</td>\n",
       "      <td>258.200000</td>\n",
       "      <td>195.733333</td>\n",
       "      <td>356.666667</td>\n",
       "      <td>333.333333</td>\n",
       "      <td>394.600000</td>\n",
       "      <td>196.000000</td>\n",
       "      <td>677.133333</td>\n",
       "      <td>4867.066667</td>\n",
       "      <td>lab 1</td>\n",
       "    </tr>\n",
       "  </tbody>\n",
       "</table>\n",
       "</div>"
      ],
      "text/plain": [
       "   target          v1          v2          v3          v4          v5  \\\n",
       "0    4.63  260.600000  199.000000  391.333333  371.733333  466.800000   \n",
       "1    5.00  263.200000  194.600000  393.666667  348.533333  401.800000   \n",
       "2    4.91  247.266667  205.800000  375.466667  354.866667  419.000000   \n",
       "3    4.77  257.944444  191.833333  368.722222  334.666667  417.222222   \n",
       "4    4.89  258.200000  195.733333  356.666667  333.333333  394.600000   \n",
       "\n",
       "           v6          v7           v8 sample_type  \n",
       "0  273.133333  742.066667  4047.733333       lab 1  \n",
       "1  220.066667  712.000000  4673.466667       lab 1  \n",
       "2  222.133333  677.200000  4386.800000       lab 1  \n",
       "3  195.944444  678.555556  4588.777778       lab 1  \n",
       "4  196.000000  677.133333  4867.066667       lab 1  "
      ]
     },
     "execution_count": 2,
     "metadata": {},
     "output_type": "execute_result"
    }
   ],
   "source": [
    "df = pd.read_excel('aria_data.xlsx')\n",
    "df.head()"
   ]
  },
  {
   "attachments": {},
   "cell_type": "markdown",
   "metadata": {},
   "source": [
    "### Data Info & Description\n"
   ]
  },
  {
   "cell_type": "code",
   "execution_count": 3,
   "metadata": {},
   "outputs": [
    {
     "name": "stdout",
     "output_type": "stream",
     "text": [
      "<class 'pandas.core.frame.DataFrame'>\n",
      "RangeIndex: 160 entries, 0 to 159\n",
      "Data columns (total 10 columns):\n",
      " #   Column       Non-Null Count  Dtype  \n",
      "---  ------       --------------  -----  \n",
      " 0   target       160 non-null    float64\n",
      " 1   v1           160 non-null    float64\n",
      " 2   v2           160 non-null    float64\n",
      " 3   v3           160 non-null    float64\n",
      " 4   v4           160 non-null    float64\n",
      " 5   v5           160 non-null    float64\n",
      " 6   v6           160 non-null    float64\n",
      " 7   v7           160 non-null    float64\n",
      " 8   v8           160 non-null    float64\n",
      " 9   sample_type  160 non-null    object \n",
      "dtypes: float64(9), object(1)\n",
      "memory usage: 12.6+ KB\n"
     ]
    }
   ],
   "source": [
    "#Checking information on DataFrame\n",
    "df.info()"
   ]
  },
  {
   "cell_type": "code",
   "execution_count": 4,
   "metadata": {},
   "outputs": [
    {
     "data": {
      "text/html": [
       "<div>\n",
       "<style scoped>\n",
       "    .dataframe tbody tr th:only-of-type {\n",
       "        vertical-align: middle;\n",
       "    }\n",
       "\n",
       "    .dataframe tbody tr th {\n",
       "        vertical-align: top;\n",
       "    }\n",
       "\n",
       "    .dataframe thead th {\n",
       "        text-align: right;\n",
       "    }\n",
       "</style>\n",
       "<table border=\"1\" class=\"dataframe\">\n",
       "  <thead>\n",
       "    <tr style=\"text-align: right;\">\n",
       "      <th></th>\n",
       "      <th>count</th>\n",
       "      <th>mean</th>\n",
       "      <th>std</th>\n",
       "      <th>min</th>\n",
       "      <th>25%</th>\n",
       "      <th>50%</th>\n",
       "      <th>75%</th>\n",
       "      <th>max</th>\n",
       "    </tr>\n",
       "  </thead>\n",
       "  <tbody>\n",
       "    <tr>\n",
       "      <th>target</th>\n",
       "      <td>160.0</td>\n",
       "      <td>4.733750</td>\n",
       "      <td>0.214050</td>\n",
       "      <td>4.130000</td>\n",
       "      <td>4.600000</td>\n",
       "      <td>4.720000</td>\n",
       "      <td>4.890000</td>\n",
       "      <td>5.260000</td>\n",
       "    </tr>\n",
       "    <tr>\n",
       "      <th>v1</th>\n",
       "      <td>160.0</td>\n",
       "      <td>389.892437</td>\n",
       "      <td>148.673511</td>\n",
       "      <td>227.285714</td>\n",
       "      <td>268.608333</td>\n",
       "      <td>295.162500</td>\n",
       "      <td>536.409375</td>\n",
       "      <td>678.375000</td>\n",
       "    </tr>\n",
       "    <tr>\n",
       "      <th>v2</th>\n",
       "      <td>160.0</td>\n",
       "      <td>237.442677</td>\n",
       "      <td>70.128690</td>\n",
       "      <td>178.800000</td>\n",
       "      <td>194.029018</td>\n",
       "      <td>204.187500</td>\n",
       "      <td>244.716667</td>\n",
       "      <td>422.812500</td>\n",
       "    </tr>\n",
       "    <tr>\n",
       "      <th>v3</th>\n",
       "      <td>160.0</td>\n",
       "      <td>480.573041</td>\n",
       "      <td>118.798984</td>\n",
       "      <td>348.933333</td>\n",
       "      <td>384.419643</td>\n",
       "      <td>414.383929</td>\n",
       "      <td>591.611404</td>\n",
       "      <td>722.312500</td>\n",
       "    </tr>\n",
       "    <tr>\n",
       "      <th>v4</th>\n",
       "      <td>160.0</td>\n",
       "      <td>394.109622</td>\n",
       "      <td>63.060442</td>\n",
       "      <td>313.733333</td>\n",
       "      <td>353.181250</td>\n",
       "      <td>370.741667</td>\n",
       "      <td>424.131250</td>\n",
       "      <td>558.500000</td>\n",
       "    </tr>\n",
       "    <tr>\n",
       "      <th>v5</th>\n",
       "      <td>160.0</td>\n",
       "      <td>487.316520</td>\n",
       "      <td>100.941711</td>\n",
       "      <td>373.333333</td>\n",
       "      <td>418.583333</td>\n",
       "      <td>456.031250</td>\n",
       "      <td>496.475000</td>\n",
       "      <td>721.000000</td>\n",
       "    </tr>\n",
       "    <tr>\n",
       "      <th>v6</th>\n",
       "      <td>160.0</td>\n",
       "      <td>251.450820</td>\n",
       "      <td>59.634652</td>\n",
       "      <td>189.200000</td>\n",
       "      <td>213.000000</td>\n",
       "      <td>226.062500</td>\n",
       "      <td>262.531250</td>\n",
       "      <td>415.375000</td>\n",
       "    </tr>\n",
       "    <tr>\n",
       "      <th>v7</th>\n",
       "      <td>160.0</td>\n",
       "      <td>714.737926</td>\n",
       "      <td>51.148098</td>\n",
       "      <td>586.266667</td>\n",
       "      <td>678.385417</td>\n",
       "      <td>718.833333</td>\n",
       "      <td>751.446875</td>\n",
       "      <td>853.466667</td>\n",
       "    </tr>\n",
       "    <tr>\n",
       "      <th>v8</th>\n",
       "      <td>160.0</td>\n",
       "      <td>4456.913233</td>\n",
       "      <td>335.035933</td>\n",
       "      <td>3725.666667</td>\n",
       "      <td>4273.437500</td>\n",
       "      <td>4554.766667</td>\n",
       "      <td>4700.612500</td>\n",
       "      <td>5086.375000</td>\n",
       "    </tr>\n",
       "  </tbody>\n",
       "</table>\n",
       "</div>"
      ],
      "text/plain": [
       "        count         mean         std          min          25%          50%  \\\n",
       "target  160.0     4.733750    0.214050     4.130000     4.600000     4.720000   \n",
       "v1      160.0   389.892437  148.673511   227.285714   268.608333   295.162500   \n",
       "v2      160.0   237.442677   70.128690   178.800000   194.029018   204.187500   \n",
       "v3      160.0   480.573041  118.798984   348.933333   384.419643   414.383929   \n",
       "v4      160.0   394.109622   63.060442   313.733333   353.181250   370.741667   \n",
       "v5      160.0   487.316520  100.941711   373.333333   418.583333   456.031250   \n",
       "v6      160.0   251.450820   59.634652   189.200000   213.000000   226.062500   \n",
       "v7      160.0   714.737926   51.148098   586.266667   678.385417   718.833333   \n",
       "v8      160.0  4456.913233  335.035933  3725.666667  4273.437500  4554.766667   \n",
       "\n",
       "                75%          max  \n",
       "target     4.890000     5.260000  \n",
       "v1       536.409375   678.375000  \n",
       "v2       244.716667   422.812500  \n",
       "v3       591.611404   722.312500  \n",
       "v4       424.131250   558.500000  \n",
       "v5       496.475000   721.000000  \n",
       "v6       262.531250   415.375000  \n",
       "v7       751.446875   853.466667  \n",
       "v8      4700.612500  5086.375000  "
      ]
     },
     "execution_count": 4,
     "metadata": {},
     "output_type": "execute_result"
    }
   ],
   "source": [
    "#Checking description of DataFrame\n",
    "df.describe().T"
   ]
  },
  {
   "attachments": {},
   "cell_type": "markdown",
   "metadata": {},
   "source": [
    "Insight yang didapat\n",
    "- sample berjumlah 160\n",
    "- rata-rata target adalah 4.73 dengan min 4.13 dan max 5.26\n",
    "- rata-rata v1 adalah 389.89 dengan min 227.28 dan max 678.37\n",
    "- rata-rata v2 adalah 237.44 dengan min 178.80 dan max 422.81\n",
    "- rata-rata v3 adalah 480.57 dengan min 348.93 dan max 722.31\n",
    "- rata-rata v4 adalah 394.10 dengan min 313.73 dan max 558.50\n",
    "- rata-rata v5 adalah 487.31 dengan min 373.33 dan max 721.00\n",
    "- rata-rata v6 adalah 251.45 dengan min 189.20 dan max 415.37\n",
    "- rata-rata v7 adalah 714.73 dengan min 586.26 dan max 853.46\n",
    "- rata-rata v8 adalah 4456.91 dengan min 3725.66 dan max 5086.37"
   ]
  },
  {
   "cell_type": "code",
   "execution_count": 5,
   "metadata": {},
   "outputs": [
    {
     "data": {
      "text/html": [
       "<div>\n",
       "<style scoped>\n",
       "    .dataframe tbody tr th:only-of-type {\n",
       "        vertical-align: middle;\n",
       "    }\n",
       "\n",
       "    .dataframe tbody tr th {\n",
       "        vertical-align: top;\n",
       "    }\n",
       "\n",
       "    .dataframe thead th {\n",
       "        text-align: right;\n",
       "    }\n",
       "</style>\n",
       "<table border=\"1\" class=\"dataframe\">\n",
       "  <thead>\n",
       "    <tr style=\"text-align: right;\">\n",
       "      <th></th>\n",
       "      <th>target</th>\n",
       "      <th>v1</th>\n",
       "      <th>v2</th>\n",
       "      <th>v3</th>\n",
       "      <th>v4</th>\n",
       "      <th>v5</th>\n",
       "      <th>v6</th>\n",
       "      <th>v7</th>\n",
       "      <th>v8</th>\n",
       "      <th>sample_type</th>\n",
       "    </tr>\n",
       "  </thead>\n",
       "  <tbody>\n",
       "    <tr>\n",
       "      <th>18</th>\n",
       "      <td>5.26</td>\n",
       "      <td>266.533333</td>\n",
       "      <td>203.000000</td>\n",
       "      <td>393.933333</td>\n",
       "      <td>358.000000</td>\n",
       "      <td>428.400000</td>\n",
       "      <td>219.666667</td>\n",
       "      <td>715.800000</td>\n",
       "      <td>4848.133333</td>\n",
       "      <td>lab 1</td>\n",
       "    </tr>\n",
       "    <tr>\n",
       "      <th>21</th>\n",
       "      <td>5.09</td>\n",
       "      <td>248.937500</td>\n",
       "      <td>182.187500</td>\n",
       "      <td>359.875000</td>\n",
       "      <td>315.625000</td>\n",
       "      <td>389.500000</td>\n",
       "      <td>199.562500</td>\n",
       "      <td>620.875000</td>\n",
       "      <td>4658.937500</td>\n",
       "      <td>lab 1</td>\n",
       "    </tr>\n",
       "    <tr>\n",
       "      <th>23</th>\n",
       "      <td>5.07</td>\n",
       "      <td>260.687500</td>\n",
       "      <td>197.625000</td>\n",
       "      <td>360.937500</td>\n",
       "      <td>339.125000</td>\n",
       "      <td>395.562500</td>\n",
       "      <td>198.125000</td>\n",
       "      <td>687.875000</td>\n",
       "      <td>4724.375000</td>\n",
       "      <td>lab 1</td>\n",
       "    </tr>\n",
       "    <tr>\n",
       "      <th>29</th>\n",
       "      <td>5.26</td>\n",
       "      <td>250.875000</td>\n",
       "      <td>181.937500</td>\n",
       "      <td>365.187500</td>\n",
       "      <td>321.562500</td>\n",
       "      <td>392.625000</td>\n",
       "      <td>195.312500</td>\n",
       "      <td>650.000000</td>\n",
       "      <td>4219.875000</td>\n",
       "      <td>lab 1</td>\n",
       "    </tr>\n",
       "    <tr>\n",
       "      <th>38</th>\n",
       "      <td>5.02</td>\n",
       "      <td>281.066667</td>\n",
       "      <td>187.466667</td>\n",
       "      <td>376.600000</td>\n",
       "      <td>335.800000</td>\n",
       "      <td>392.866667</td>\n",
       "      <td>211.933333</td>\n",
       "      <td>664.733333</td>\n",
       "      <td>4795.466667</td>\n",
       "      <td>lab 1</td>\n",
       "    </tr>\n",
       "    <tr>\n",
       "      <th>57</th>\n",
       "      <td>5.04</td>\n",
       "      <td>276.125000</td>\n",
       "      <td>197.562500</td>\n",
       "      <td>389.500000</td>\n",
       "      <td>365.625000</td>\n",
       "      <td>444.812500</td>\n",
       "      <td>235.312500</td>\n",
       "      <td>723.062500</td>\n",
       "      <td>4359.437500</td>\n",
       "      <td>lab 1</td>\n",
       "    </tr>\n",
       "    <tr>\n",
       "      <th>102</th>\n",
       "      <td>5.03</td>\n",
       "      <td>529.437500</td>\n",
       "      <td>210.875000</td>\n",
       "      <td>585.375000</td>\n",
       "      <td>373.937500</td>\n",
       "      <td>476.500000</td>\n",
       "      <td>218.562500</td>\n",
       "      <td>596.062500</td>\n",
       "      <td>4458.500000</td>\n",
       "      <td>lab 2</td>\n",
       "    </tr>\n",
       "    <tr>\n",
       "      <th>105</th>\n",
       "      <td>5.11</td>\n",
       "      <td>499.933333</td>\n",
       "      <td>195.666667</td>\n",
       "      <td>561.866667</td>\n",
       "      <td>361.333333</td>\n",
       "      <td>472.000000</td>\n",
       "      <td>203.666667</td>\n",
       "      <td>658.533333</td>\n",
       "      <td>4607.000000</td>\n",
       "      <td>lab 2</td>\n",
       "    </tr>\n",
       "    <tr>\n",
       "      <th>106</th>\n",
       "      <td>5.09</td>\n",
       "      <td>538.333333</td>\n",
       "      <td>207.000000</td>\n",
       "      <td>607.866667</td>\n",
       "      <td>383.800000</td>\n",
       "      <td>475.266667</td>\n",
       "      <td>204.800000</td>\n",
       "      <td>679.200000</td>\n",
       "      <td>4773.200000</td>\n",
       "      <td>lab 2</td>\n",
       "    </tr>\n",
       "    <tr>\n",
       "      <th>116</th>\n",
       "      <td>5.05</td>\n",
       "      <td>501.578947</td>\n",
       "      <td>203.631579</td>\n",
       "      <td>591.526316</td>\n",
       "      <td>377.157895</td>\n",
       "      <td>478.473684</td>\n",
       "      <td>213.000000</td>\n",
       "      <td>647.473684</td>\n",
       "      <td>4418.684211</td>\n",
       "      <td>lab 2</td>\n",
       "    </tr>\n",
       "    <tr>\n",
       "      <th>118</th>\n",
       "      <td>5.11</td>\n",
       "      <td>557.266667</td>\n",
       "      <td>210.800000</td>\n",
       "      <td>586.666667</td>\n",
       "      <td>370.733333</td>\n",
       "      <td>462.466667</td>\n",
       "      <td>203.466667</td>\n",
       "      <td>658.466667</td>\n",
       "      <td>4530.333333</td>\n",
       "      <td>lab 2</td>\n",
       "    </tr>\n",
       "    <tr>\n",
       "      <th>119</th>\n",
       "      <td>5.09</td>\n",
       "      <td>504.133333</td>\n",
       "      <td>202.066667</td>\n",
       "      <td>574.866667</td>\n",
       "      <td>361.533333</td>\n",
       "      <td>478.266667</td>\n",
       "      <td>214.000000</td>\n",
       "      <td>676.200000</td>\n",
       "      <td>4423.866667</td>\n",
       "      <td>lab 2</td>\n",
       "    </tr>\n",
       "    <tr>\n",
       "      <th>120</th>\n",
       "      <td>5.02</td>\n",
       "      <td>506.125000</td>\n",
       "      <td>203.812500</td>\n",
       "      <td>598.687500</td>\n",
       "      <td>370.750000</td>\n",
       "      <td>477.062500</td>\n",
       "      <td>213.812500</td>\n",
       "      <td>638.250000</td>\n",
       "      <td>4598.437500</td>\n",
       "      <td>lab 2</td>\n",
       "    </tr>\n",
       "    <tr>\n",
       "      <th>124</th>\n",
       "      <td>5.01</td>\n",
       "      <td>551.631579</td>\n",
       "      <td>225.368421</td>\n",
       "      <td>627.789474</td>\n",
       "      <td>406.315789</td>\n",
       "      <td>499.421053</td>\n",
       "      <td>237.684211</td>\n",
       "      <td>727.105263</td>\n",
       "      <td>4670.210526</td>\n",
       "      <td>lab 2</td>\n",
       "    </tr>\n",
       "    <tr>\n",
       "      <th>125</th>\n",
       "      <td>5.03</td>\n",
       "      <td>542.562500</td>\n",
       "      <td>211.812500</td>\n",
       "      <td>621.875000</td>\n",
       "      <td>406.437500</td>\n",
       "      <td>502.125000</td>\n",
       "      <td>241.250000</td>\n",
       "      <td>692.187500</td>\n",
       "      <td>4820.625000</td>\n",
       "      <td>lab 2</td>\n",
       "    </tr>\n",
       "    <tr>\n",
       "      <th>127</th>\n",
       "      <td>5.03</td>\n",
       "      <td>517.750000</td>\n",
       "      <td>216.750000</td>\n",
       "      <td>583.250000</td>\n",
       "      <td>376.125000</td>\n",
       "      <td>498.937500</td>\n",
       "      <td>231.187500</td>\n",
       "      <td>677.875000</td>\n",
       "      <td>4701.250000</td>\n",
       "      <td>lab 2</td>\n",
       "    </tr>\n",
       "    <tr>\n",
       "      <th>128</th>\n",
       "      <td>5.08</td>\n",
       "      <td>545.750000</td>\n",
       "      <td>234.562500</td>\n",
       "      <td>612.687500</td>\n",
       "      <td>399.250000</td>\n",
       "      <td>506.687500</td>\n",
       "      <td>262.000000</td>\n",
       "      <td>685.125000</td>\n",
       "      <td>4423.812500</td>\n",
       "      <td>lab 2</td>\n",
       "    </tr>\n",
       "  </tbody>\n",
       "</table>\n",
       "</div>"
      ],
      "text/plain": [
       "     target          v1          v2          v3          v4          v5  \\\n",
       "18     5.26  266.533333  203.000000  393.933333  358.000000  428.400000   \n",
       "21     5.09  248.937500  182.187500  359.875000  315.625000  389.500000   \n",
       "23     5.07  260.687500  197.625000  360.937500  339.125000  395.562500   \n",
       "29     5.26  250.875000  181.937500  365.187500  321.562500  392.625000   \n",
       "38     5.02  281.066667  187.466667  376.600000  335.800000  392.866667   \n",
       "57     5.04  276.125000  197.562500  389.500000  365.625000  444.812500   \n",
       "102    5.03  529.437500  210.875000  585.375000  373.937500  476.500000   \n",
       "105    5.11  499.933333  195.666667  561.866667  361.333333  472.000000   \n",
       "106    5.09  538.333333  207.000000  607.866667  383.800000  475.266667   \n",
       "116    5.05  501.578947  203.631579  591.526316  377.157895  478.473684   \n",
       "118    5.11  557.266667  210.800000  586.666667  370.733333  462.466667   \n",
       "119    5.09  504.133333  202.066667  574.866667  361.533333  478.266667   \n",
       "120    5.02  506.125000  203.812500  598.687500  370.750000  477.062500   \n",
       "124    5.01  551.631579  225.368421  627.789474  406.315789  499.421053   \n",
       "125    5.03  542.562500  211.812500  621.875000  406.437500  502.125000   \n",
       "127    5.03  517.750000  216.750000  583.250000  376.125000  498.937500   \n",
       "128    5.08  545.750000  234.562500  612.687500  399.250000  506.687500   \n",
       "\n",
       "             v6          v7           v8 sample_type  \n",
       "18   219.666667  715.800000  4848.133333       lab 1  \n",
       "21   199.562500  620.875000  4658.937500       lab 1  \n",
       "23   198.125000  687.875000  4724.375000       lab 1  \n",
       "29   195.312500  650.000000  4219.875000       lab 1  \n",
       "38   211.933333  664.733333  4795.466667       lab 1  \n",
       "57   235.312500  723.062500  4359.437500       lab 1  \n",
       "102  218.562500  596.062500  4458.500000       lab 2  \n",
       "105  203.666667  658.533333  4607.000000       lab 2  \n",
       "106  204.800000  679.200000  4773.200000       lab 2  \n",
       "116  213.000000  647.473684  4418.684211       lab 2  \n",
       "118  203.466667  658.466667  4530.333333       lab 2  \n",
       "119  214.000000  676.200000  4423.866667       lab 2  \n",
       "120  213.812500  638.250000  4598.437500       lab 2  \n",
       "124  237.684211  727.105263  4670.210526       lab 2  \n",
       "125  241.250000  692.187500  4820.625000       lab 2  \n",
       "127  231.187500  677.875000  4701.250000       lab 2  \n",
       "128  262.000000  685.125000  4423.812500       lab 2  "
      ]
     },
     "execution_count": 5,
     "metadata": {},
     "output_type": "execute_result"
    }
   ],
   "source": [
    "df[df.target > 5.0]"
   ]
  },
  {
   "cell_type": "code",
   "execution_count": 6,
   "metadata": {},
   "outputs": [
    {
     "data": {
      "text/html": [
       "<div>\n",
       "<style scoped>\n",
       "    .dataframe tbody tr th:only-of-type {\n",
       "        vertical-align: middle;\n",
       "    }\n",
       "\n",
       "    .dataframe tbody tr th {\n",
       "        vertical-align: top;\n",
       "    }\n",
       "\n",
       "    .dataframe thead th {\n",
       "        text-align: right;\n",
       "    }\n",
       "</style>\n",
       "<table border=\"1\" class=\"dataframe\">\n",
       "  <thead>\n",
       "    <tr style=\"text-align: right;\">\n",
       "      <th></th>\n",
       "      <th>target</th>\n",
       "      <th>v1</th>\n",
       "      <th>v2</th>\n",
       "      <th>v3</th>\n",
       "      <th>v4</th>\n",
       "      <th>v5</th>\n",
       "      <th>v6</th>\n",
       "      <th>v7</th>\n",
       "      <th>v8</th>\n",
       "      <th>sample_type</th>\n",
       "    </tr>\n",
       "  </thead>\n",
       "  <tbody>\n",
       "    <tr>\n",
       "      <th>1</th>\n",
       "      <td>5.00</td>\n",
       "      <td>263.200000</td>\n",
       "      <td>194.600000</td>\n",
       "      <td>393.666667</td>\n",
       "      <td>348.533333</td>\n",
       "      <td>401.800000</td>\n",
       "      <td>220.066667</td>\n",
       "      <td>712.000000</td>\n",
       "      <td>4673.466667</td>\n",
       "      <td>lab 1</td>\n",
       "    </tr>\n",
       "    <tr>\n",
       "      <th>2</th>\n",
       "      <td>4.91</td>\n",
       "      <td>247.266667</td>\n",
       "      <td>205.800000</td>\n",
       "      <td>375.466667</td>\n",
       "      <td>354.866667</td>\n",
       "      <td>419.000000</td>\n",
       "      <td>222.133333</td>\n",
       "      <td>677.200000</td>\n",
       "      <td>4386.800000</td>\n",
       "      <td>lab 1</td>\n",
       "    </tr>\n",
       "    <tr>\n",
       "      <th>3</th>\n",
       "      <td>4.77</td>\n",
       "      <td>257.944444</td>\n",
       "      <td>191.833333</td>\n",
       "      <td>368.722222</td>\n",
       "      <td>334.666667</td>\n",
       "      <td>417.222222</td>\n",
       "      <td>195.944444</td>\n",
       "      <td>678.555556</td>\n",
       "      <td>4588.777778</td>\n",
       "      <td>lab 1</td>\n",
       "    </tr>\n",
       "    <tr>\n",
       "      <th>4</th>\n",
       "      <td>4.89</td>\n",
       "      <td>258.200000</td>\n",
       "      <td>195.733333</td>\n",
       "      <td>356.666667</td>\n",
       "      <td>333.333333</td>\n",
       "      <td>394.600000</td>\n",
       "      <td>196.000000</td>\n",
       "      <td>677.133333</td>\n",
       "      <td>4867.066667</td>\n",
       "      <td>lab 1</td>\n",
       "    </tr>\n",
       "    <tr>\n",
       "      <th>5</th>\n",
       "      <td>4.88</td>\n",
       "      <td>268.722222</td>\n",
       "      <td>193.000000</td>\n",
       "      <td>364.944444</td>\n",
       "      <td>345.888889</td>\n",
       "      <td>405.444444</td>\n",
       "      <td>210.055556</td>\n",
       "      <td>650.666667</td>\n",
       "      <td>4493.944444</td>\n",
       "      <td>lab 1</td>\n",
       "    </tr>\n",
       "    <tr>\n",
       "      <th>...</th>\n",
       "      <td>...</td>\n",
       "      <td>...</td>\n",
       "      <td>...</td>\n",
       "      <td>...</td>\n",
       "      <td>...</td>\n",
       "      <td>...</td>\n",
       "      <td>...</td>\n",
       "      <td>...</td>\n",
       "      <td>...</td>\n",
       "      <td>...</td>\n",
       "    </tr>\n",
       "    <tr>\n",
       "      <th>148</th>\n",
       "      <td>4.73</td>\n",
       "      <td>635.933333</td>\n",
       "      <td>376.400000</td>\n",
       "      <td>640.400000</td>\n",
       "      <td>519.266667</td>\n",
       "      <td>695.533333</td>\n",
       "      <td>361.066667</td>\n",
       "      <td>719.466667</td>\n",
       "      <td>3738.466667</td>\n",
       "      <td>lab 2</td>\n",
       "    </tr>\n",
       "    <tr>\n",
       "      <th>150</th>\n",
       "      <td>4.80</td>\n",
       "      <td>583.875000</td>\n",
       "      <td>349.187500</td>\n",
       "      <td>641.625000</td>\n",
       "      <td>477.000000</td>\n",
       "      <td>664.000000</td>\n",
       "      <td>327.812500</td>\n",
       "      <td>665.750000</td>\n",
       "      <td>3917.625000</td>\n",
       "      <td>lab 2</td>\n",
       "    </tr>\n",
       "    <tr>\n",
       "      <th>152</th>\n",
       "      <td>4.73</td>\n",
       "      <td>567.562500</td>\n",
       "      <td>356.500000</td>\n",
       "      <td>623.000000</td>\n",
       "      <td>476.500000</td>\n",
       "      <td>661.062500</td>\n",
       "      <td>321.062500</td>\n",
       "      <td>695.937500</td>\n",
       "      <td>3858.500000</td>\n",
       "      <td>lab 2</td>\n",
       "    </tr>\n",
       "    <tr>\n",
       "      <th>154</th>\n",
       "      <td>4.79</td>\n",
       "      <td>624.200000</td>\n",
       "      <td>377.666667</td>\n",
       "      <td>645.666667</td>\n",
       "      <td>486.733333</td>\n",
       "      <td>699.733333</td>\n",
       "      <td>364.400000</td>\n",
       "      <td>734.200000</td>\n",
       "      <td>3741.266667</td>\n",
       "      <td>lab 2</td>\n",
       "    </tr>\n",
       "    <tr>\n",
       "      <th>155</th>\n",
       "      <td>4.83</td>\n",
       "      <td>573.250000</td>\n",
       "      <td>361.250000</td>\n",
       "      <td>643.125000</td>\n",
       "      <td>489.812500</td>\n",
       "      <td>666.875000</td>\n",
       "      <td>355.250000</td>\n",
       "      <td>712.312500</td>\n",
       "      <td>3943.687500</td>\n",
       "      <td>lab 2</td>\n",
       "    </tr>\n",
       "  </tbody>\n",
       "</table>\n",
       "<p>85 rows × 10 columns</p>\n",
       "</div>"
      ],
      "text/plain": [
       "     target          v1          v2          v3          v4          v5  \\\n",
       "1      5.00  263.200000  194.600000  393.666667  348.533333  401.800000   \n",
       "2      4.91  247.266667  205.800000  375.466667  354.866667  419.000000   \n",
       "3      4.77  257.944444  191.833333  368.722222  334.666667  417.222222   \n",
       "4      4.89  258.200000  195.733333  356.666667  333.333333  394.600000   \n",
       "5      4.88  268.722222  193.000000  364.944444  345.888889  405.444444   \n",
       "..      ...         ...         ...         ...         ...         ...   \n",
       "148    4.73  635.933333  376.400000  640.400000  519.266667  695.533333   \n",
       "150    4.80  583.875000  349.187500  641.625000  477.000000  664.000000   \n",
       "152    4.73  567.562500  356.500000  623.000000  476.500000  661.062500   \n",
       "154    4.79  624.200000  377.666667  645.666667  486.733333  699.733333   \n",
       "155    4.83  573.250000  361.250000  643.125000  489.812500  666.875000   \n",
       "\n",
       "             v6          v7           v8 sample_type  \n",
       "1    220.066667  712.000000  4673.466667       lab 1  \n",
       "2    222.133333  677.200000  4386.800000       lab 1  \n",
       "3    195.944444  678.555556  4588.777778       lab 1  \n",
       "4    196.000000  677.133333  4867.066667       lab 1  \n",
       "5    210.055556  650.666667  4493.944444       lab 1  \n",
       "..          ...         ...          ...         ...  \n",
       "148  361.066667  719.466667  3738.466667       lab 2  \n",
       "150  327.812500  665.750000  3917.625000       lab 2  \n",
       "152  321.062500  695.937500  3858.500000       lab 2  \n",
       "154  364.400000  734.200000  3741.266667       lab 2  \n",
       "155  355.250000  712.312500  3943.687500       lab 2  \n",
       "\n",
       "[85 rows x 10 columns]"
      ]
     },
     "execution_count": 6,
     "metadata": {},
     "output_type": "execute_result"
    }
   ],
   "source": [
    "df[df.target > 4.7]"
   ]
  },
  {
   "attachments": {},
   "cell_type": "markdown",
   "metadata": {},
   "source": [
    "### Cek Duplikasi data"
   ]
  },
  {
   "cell_type": "code",
   "execution_count": 7,
   "metadata": {},
   "outputs": [
    {
     "data": {
      "text/plain": [
       "0"
      ]
     },
     "execution_count": 7,
     "metadata": {},
     "output_type": "execute_result"
    }
   ],
   "source": [
    "#Checking data duplicate\n",
    "df.duplicated(keep = False).sum()"
   ]
  },
  {
   "attachments": {},
   "cell_type": "markdown",
   "metadata": {},
   "source": [
    "tidak ada duplikasi data"
   ]
  },
  {
   "attachments": {},
   "cell_type": "markdown",
   "metadata": {},
   "source": [
    "### Cek Missing Data"
   ]
  },
  {
   "cell_type": "code",
   "execution_count": 8,
   "metadata": {},
   "outputs": [
    {
     "data": {
      "text/plain": [
       "target         0\n",
       "v1             0\n",
       "v2             0\n",
       "v3             0\n",
       "v4             0\n",
       "v5             0\n",
       "v6             0\n",
       "v7             0\n",
       "v8             0\n",
       "sample_type    0\n",
       "dtype: int64"
      ]
     },
     "execution_count": 8,
     "metadata": {},
     "output_type": "execute_result"
    }
   ],
   "source": [
    "#Checking Missing Value\n",
    "df.isnull().sum()"
   ]
  },
  {
   "attachments": {},
   "cell_type": "markdown",
   "metadata": {},
   "source": [
    "tidak ada missing data"
   ]
  },
  {
   "attachments": {},
   "cell_type": "markdown",
   "metadata": {},
   "source": [
    "## Exploratory Data Analysis"
   ]
  },
  {
   "attachments": {},
   "cell_type": "markdown",
   "metadata": {},
   "source": [
    "Split data Lab 1 dan Lab 2 untuk komparasi"
   ]
  },
  {
   "cell_type": "code",
   "execution_count": 9,
   "metadata": {},
   "outputs": [],
   "source": [
    "df1 = df[df['sample_type'] == 'lab 1']"
   ]
  },
  {
   "cell_type": "code",
   "execution_count": 10,
   "metadata": {},
   "outputs": [],
   "source": [
    "df2 = df[df['sample_type'] == 'lab 2']"
   ]
  },
  {
   "attachments": {},
   "cell_type": "markdown",
   "metadata": {},
   "source": [
    "### Sample Type\n"
   ]
  },
  {
   "cell_type": "code",
   "execution_count": 11,
   "metadata": {},
   "outputs": [
    {
     "data": {
      "text/plain": [
       "sample_type\n",
       "lab 1    100\n",
       "lab 2     60\n",
       "dtype: int64"
      ]
     },
     "execution_count": 11,
     "metadata": {},
     "output_type": "execute_result"
    }
   ],
   "source": [
    "df.groupby(['sample_type']).size().sort_values(ascending = False)\n"
   ]
  },
  {
   "cell_type": "code",
   "execution_count": 12,
   "metadata": {},
   "outputs": [],
   "source": [
    "sample = df['sample_type'].value_counts()\n"
   ]
  },
  {
   "cell_type": "code",
   "execution_count": 13,
   "metadata": {},
   "outputs": [
    {
     "data": {
      "text/plain": [
       "Text(0.5, 0, 'Sample Type')"
      ]
     },
     "execution_count": 13,
     "metadata": {},
     "output_type": "execute_result"
    },
    {
     "data": {
      "image/png": "[encoded data removed]",
      "text/plain": [
       "<Figure size 1440x432 with 1 Axes>"
      ]
     },
     "metadata": {
      "needs_background": "light"
     },
     "output_type": "display_data"
    }
   ],
   "source": [
    "plt.figure(figsize=(20, 6))\n",
    "plt.subplot(1, 2, 1)\n",
    "fig = sns.barplot(x=sample.index,y=sample, data=df )\n",
    "for p in fig.patches:\n",
    "    fig.annotate(str(p.get_height()), (p.get_x() + p.get_width() / 2., p.get_height()), ha='center', va='center', xytext=(0, 10), textcoords='offset points')\n",
    "plt.title('Sample Type')\n",
    "plt.xlabel('Sample Type')"
   ]
  },
  {
   "attachments": {},
   "cell_type": "markdown",
   "metadata": {},
   "source": [
    "### Target"
   ]
  },
  {
   "cell_type": "code",
   "execution_count": 14,
   "metadata": {},
   "outputs": [
    {
     "data": {
      "text/plain": [
       "target\n",
       "4.62    7\n",
       "4.66    6\n",
       "4.84    5\n",
       "4.89    5\n",
       "4.63    5\n",
       "       ..\n",
       "4.81    1\n",
       "4.59    1\n",
       "4.78    1\n",
       "4.70    1\n",
       "4.13    1\n",
       "Length: 72, dtype: int64"
      ]
     },
     "execution_count": 14,
     "metadata": {},
     "output_type": "execute_result"
    }
   ],
   "source": [
    "df.groupby(['target']).size().sort_values(ascending = False)"
   ]
  },
  {
   "cell_type": "code",
   "execution_count": 15,
   "metadata": {},
   "outputs": [],
   "source": [
    "targets = df['target'].value_counts().sort_values(ascending = True)"
   ]
  },
  {
   "cell_type": "code",
   "execution_count": 16,
   "metadata": {},
   "outputs": [
    {
     "data": {
      "text/plain": [
       "4.43    1\n",
       "4.81    1\n",
       "5.01    1\n",
       "5.08    1\n",
       "4.14    1\n",
       "       ..\n",
       "4.84    5\n",
       "4.89    5\n",
       "4.63    5\n",
       "4.66    6\n",
       "4.62    7\n",
       "Name: target, Length: 72, dtype: int64"
      ]
     },
     "execution_count": 16,
     "metadata": {},
     "output_type": "execute_result"
    }
   ],
   "source": [
    "targets"
   ]
  },
  {
   "cell_type": "code",
   "execution_count": 17,
   "metadata": {},
   "outputs": [
    {
     "data": {
      "text/plain": [
       "Text(0.5, 0, 'Target')"
      ]
     },
     "execution_count": 17,
     "metadata": {},
     "output_type": "execute_result"
    },
    {
     "data": {
      "image/png": "[encoded data removed]",
      "text/plain": [
       "<Figure size 1296x360 with 3 Axes>"
      ]
     },
     "metadata": {
      "needs_background": "light"
     },
     "output_type": "display_data"
    }
   ],
   "source": [
    "plt.figure(figsize=(18,5))\n",
    "plt.subplot(1,3,1)\n",
    "plt.scatter(df['target'].index, df['target'])\n",
    "plt.title('Target')\n",
    "plt.xlabel('Target')\n",
    "plt.subplot(1,3,2)\n",
    "plt.scatter(df1['target'].index, df1['target'])\n",
    "plt.title('Target lab 1')\n",
    "plt.xlabel('Target')\n",
    "plt.subplot(1,3,3)\n",
    "plt.scatter(df2['target'].index, df2['target'])\n",
    "plt.title('Target lab 2')\n",
    "plt.xlabel('Target')"
   ]
  },
  {
   "attachments": {},
   "cell_type": "markdown",
   "metadata": {},
   "source": [
    "### V1 - V8"
   ]
  },
  {
   "cell_type": "code",
   "execution_count": 18,
   "metadata": {},
   "outputs": [],
   "source": [
    "v1 = df['v1'].value_counts().sort_values(ascending = True)"
   ]
  },
  {
   "cell_type": "code",
   "execution_count": 19,
   "metadata": {},
   "outputs": [
    {
     "data": {
      "text/plain": [
       "Text(0.5, 1.0, 'V1 lab 2')"
      ]
     },
     "execution_count": 19,
     "metadata": {},
     "output_type": "execute_result"
    },
    {
     "data": {
      "image/png": "[encoded data removed]",
      "text/plain": [
       "<Figure size 1296x360 with 3 Axes>"
      ]
     },
     "metadata": {
      "needs_background": "light"
     },
     "output_type": "display_data"
    }
   ],
   "source": [
    "plt.figure(figsize=(18,5))\n",
    "plt.subplot(1,3,1)\n",
    "plt.scatter(df['v1'].index, df['v1'])\n",
    "plt.title('V1')\n",
    "plt.subplot(1,3,2)\n",
    "plt.scatter(df1['v1'].index, df1['v1'])\n",
    "plt.title('V1 lab 1')\n",
    "plt.subplot(1,3,3)\n",
    "plt.scatter(df2['v1'].index, df2['v1'])\n",
    "plt.title('V1 lab 2')"
   ]
  },
  {
   "cell_type": "code",
   "execution_count": 20,
   "metadata": {},
   "outputs": [
    {
     "data": {
      "text/plain": [
       "Text(0.5, 1.0, 'V2 lab 2')"
      ]
     },
     "execution_count": 20,
     "metadata": {},
     "output_type": "execute_result"
    },
    {
     "data": {
      "image/png": "[encoded data removed]",
      "text/plain": [
       "<Figure size 1296x360 with 3 Axes>"
      ]
     },
     "metadata": {
      "needs_background": "light"
     },
     "output_type": "display_data"
    }
   ],
   "source": [
    "plt.figure(figsize=(18,5))\n",
    "plt.subplot(1,3,1)\n",
    "plt.scatter(df['v2'].index, df['v2'])\n",
    "plt.title('V2')\n",
    "plt.subplot(1,3,2)\n",
    "plt.scatter(df1['v2'].index, df1['v2'])\n",
    "plt.title('V2 lab 1')\n",
    "plt.subplot(1,3,3)\n",
    "plt.scatter(df2['v2'].index, df2['v2'])\n",
    "plt.title('V2 lab 2')"
   ]
  },
  {
   "cell_type": "code",
   "execution_count": 21,
   "metadata": {},
   "outputs": [
    {
     "data": {
      "text/plain": [
       "Text(0.5, 1.0, 'V3 lab 2')"
      ]
     },
     "execution_count": 21,
     "metadata": {},
     "output_type": "execute_result"
    },
    {
     "data": {
      "image/png": "[encoded data removed]",
      "text/plain": [
       "<Figure size 1296x360 with 3 Axes>"
      ]
     },
     "metadata": {
      "needs_background": "light"
     },
     "output_type": "display_data"
    }
   ],
   "source": [
    "plt.figure(figsize=(18,5))\n",
    "plt.subplot(1,3,1)\n",
    "plt.scatter(df['v3'].index, df['v3'])\n",
    "plt.title('V3')\n",
    "plt.subplot(1,3,2)\n",
    "plt.scatter(df1['v3'].index, df1['v3'])\n",
    "plt.title('V3 lab 1')\n",
    "plt.subplot(1,3,3)\n",
    "plt.scatter(df2['v3'].index, df2['v3'])\n",
    "plt.title('V3 lab 2')"
   ]
  },
  {
   "cell_type": "code",
   "execution_count": 22,
   "metadata": {},
   "outputs": [
    {
     "data": {
      "text/plain": [
       "Text(0.5, 1.0, 'V4 lab 2')"
      ]
     },
     "execution_count": 22,
     "metadata": {},
     "output_type": "execute_result"
    },
    {
     "data": {
      "image/png": "[encoded data removed]",
      "text/plain": [
       "<Figure size 1296x360 with 3 Axes>"
      ]
     },
     "metadata": {
      "needs_background": "light"
     },
     "output_type": "display_data"
    }
   ],
   "source": [
    "plt.figure(figsize=(18,5))\n",
    "plt.subplot(1,3,1)\n",
    "plt.scatter(df['v4'].index, df['v4'])\n",
    "plt.title('V4')\n",
    "plt.subplot(1,3,2)\n",
    "plt.scatter(df1['v4'].index, df1['v4'])\n",
    "plt.title('V4 lab 1')\n",
    "plt.subplot(1,3,3)\n",
    "plt.scatter(df2['v4'].index, df2['v4'])\n",
    "plt.title('V4 lab 2')"
   ]
  },
  {
   "cell_type": "code",
   "execution_count": 23,
   "metadata": {},
   "outputs": [
    {
     "data": {
      "text/plain": [
       "Text(0.5, 1.0, 'V5 lab 2')"
      ]
     },
     "execution_count": 23,
     "metadata": {},
     "output_type": "execute_result"
    },
    {
     "data": {
      "image/png": "[encoded data removed]",
      "text/plain": [
       "<Figure size 1296x360 with 3 Axes>"
      ]
     },
     "metadata": {
      "needs_background": "light"
     },
     "output_type": "display_data"
    }
   ],
   "source": [
    "plt.figure(figsize=(18,5))\n",
    "plt.subplot(1,3,1)\n",
    "plt.scatter(df['v5'].index, df['v5'])\n",
    "plt.title('V5')\n",
    "plt.subplot(1,3,2)\n",
    "plt.scatter(df1['v5'].index, df1['v5'])\n",
    "plt.title('V5 lab 1')\n",
    "plt.subplot(1,3,3)\n",
    "plt.scatter(df2['v5'].index, df2['v5'])\n",
    "plt.title('V5 lab 2')"
   ]
  },
  {
   "cell_type": "code",
   "execution_count": 24,
   "metadata": {},
   "outputs": [
    {
     "data": {
      "text/plain": [
       "Text(0.5, 1.0, 'V6 lab 2')"
      ]
     },
     "execution_count": 24,
     "metadata": {},
     "output_type": "execute_result"
    },
    {
     "data": {
      "image/png": "[encoded data removed]",
      "text/plain": [
       "<Figure size 1296x360 with 3 Axes>"
      ]
     },
     "metadata": {
      "needs_background": "light"
     },
     "output_type": "display_data"
    }
   ],
   "source": [
    "plt.figure(figsize=(18,5))\n",
    "plt.subplot(1,3,1)\n",
    "plt.scatter(df['v6'].index, df['v6'])\n",
    "plt.title('V6')\n",
    "plt.subplot(1,3,2)\n",
    "plt.scatter(df1['v6'].index, df1['v6'])\n",
    "plt.title('V6 lab 1')\n",
    "plt.subplot(1,3,3)\n",
    "plt.scatter(df2['v6'].index, df2['v6'])\n",
    "plt.title('V6 lab 2')"
   ]
  },
  {
   "cell_type": "code",
   "execution_count": 25,
   "metadata": {},
   "outputs": [
    {
     "data": {
      "text/plain": [
       "Text(0.5, 1.0, 'V7 lab 2')"
      ]
     },
     "execution_count": 25,
     "metadata": {},
     "output_type": "execute_result"
    },
    {
     "data": {
      "image/png": "[encoded data removed]",
      "text/plain": [
       "<Figure size 1296x360 with 3 Axes>"
      ]
     },
     "metadata": {
      "needs_background": "light"
     },
     "output_type": "display_data"
    }
   ],
   "source": [
    "plt.figure(figsize=(18,5))\n",
    "plt.subplot(1,3,1)\n",
    "plt.scatter(df['v7'].index, df['v7'])\n",
    "plt.title('V7')\n",
    "plt.subplot(1,3,2)\n",
    "plt.scatter(df1['v7'].index, df1['v7'])\n",
    "plt.title('V7 lab 1')\n",
    "plt.subplot(1,3,3)\n",
    "plt.scatter(df2['v7'].index, df2['v7'])\n",
    "plt.title('V7 lab 2')"
   ]
  },
  {
   "cell_type": "code",
   "execution_count": 26,
   "metadata": {},
   "outputs": [
    {
     "data": {
      "text/plain": [
       "Text(0.5, 1.0, 'V8 lab 2')"
      ]
     },
     "execution_count": 26,
     "metadata": {},
     "output_type": "execute_result"
    },
    {
     "data": {
      "image/png": "[encoded data removed]",
      "text/plain": [
       "<Figure size 1296x360 with 3 Axes>"
      ]
     },
     "metadata": {
      "needs_background": "light"
     },
     "output_type": "display_data"
    }
   ],
   "source": [
    "plt.figure(figsize=(18,5))\n",
    "plt.subplot(1,3,1)\n",
    "plt.scatter(df['v8'].index, df['v8'])\n",
    "plt.title('V8')\n",
    "plt.subplot(1,3,2)\n",
    "plt.scatter(df1['v8'].index, df1['v8'])\n",
    "plt.title('V8 lab 1')\n",
    "plt.subplot(1,3,3)\n",
    "plt.scatter(df2['v8'].index, df2['v8'])\n",
    "plt.title('V8 lab 2')"
   ]
  },
  {
   "attachments": {},
   "cell_type": "markdown",
   "metadata": {},
   "source": [
    "### Korelaasi Matrix"
   ]
  },
  {
   "cell_type": "code",
   "execution_count": 27,
   "metadata": {},
   "outputs": [
    {
     "data": {
      "image/png": "[encoded data removed]",
      "text/plain": [
       "<Figure size 864x504 with 2 Axes>"
      ]
     },
     "metadata": {
      "needs_background": "light"
     },
     "output_type": "display_data"
    }
   ],
   "source": [
    "#korelasi matrix\n",
    "corr_data = df.corr()\n",
    "plt.figure(figsize=(12,7))\n",
    "sns.heatmap(corr_data, annot=True, vmin=0, vmax=1)\n",
    "plt.show()"
   ]
  },
  {
   "attachments": {},
   "cell_type": "markdown",
   "metadata": {},
   "source": [
    "## Data Preprocessing"
   ]
  },
  {
   "cell_type": "code",
   "execution_count": 28,
   "metadata": {},
   "outputs": [
    {
     "data": {
      "text/html": [
       "<div>\n",
       "<style scoped>\n",
       "    .dataframe tbody tr th:only-of-type {\n",
       "        vertical-align: middle;\n",
       "    }\n",
       "\n",
       "    .dataframe tbody tr th {\n",
       "        vertical-align: top;\n",
       "    }\n",
       "\n",
       "    .dataframe thead th {\n",
       "        text-align: right;\n",
       "    }\n",
       "</style>\n",
       "<table border=\"1\" class=\"dataframe\">\n",
       "  <thead>\n",
       "    <tr style=\"text-align: right;\">\n",
       "      <th></th>\n",
       "      <th>target</th>\n",
       "      <th>v1</th>\n",
       "      <th>v2</th>\n",
       "      <th>v3</th>\n",
       "      <th>v4</th>\n",
       "      <th>v5</th>\n",
       "      <th>v6</th>\n",
       "      <th>v7</th>\n",
       "      <th>v8</th>\n",
       "      <th>sample_type</th>\n",
       "    </tr>\n",
       "  </thead>\n",
       "  <tbody>\n",
       "    <tr>\n",
       "      <th>0</th>\n",
       "      <td>4.63</td>\n",
       "      <td>260.600000</td>\n",
       "      <td>199.000000</td>\n",
       "      <td>391.333333</td>\n",
       "      <td>371.733333</td>\n",
       "      <td>466.800000</td>\n",
       "      <td>273.133333</td>\n",
       "      <td>742.066667</td>\n",
       "      <td>4047.733333</td>\n",
       "      <td>lab 1</td>\n",
       "    </tr>\n",
       "    <tr>\n",
       "      <th>1</th>\n",
       "      <td>5.00</td>\n",
       "      <td>263.200000</td>\n",
       "      <td>194.600000</td>\n",
       "      <td>393.666667</td>\n",
       "      <td>348.533333</td>\n",
       "      <td>401.800000</td>\n",
       "      <td>220.066667</td>\n",
       "      <td>712.000000</td>\n",
       "      <td>4673.466667</td>\n",
       "      <td>lab 1</td>\n",
       "    </tr>\n",
       "    <tr>\n",
       "      <th>2</th>\n",
       "      <td>4.91</td>\n",
       "      <td>247.266667</td>\n",
       "      <td>205.800000</td>\n",
       "      <td>375.466667</td>\n",
       "      <td>354.866667</td>\n",
       "      <td>419.000000</td>\n",
       "      <td>222.133333</td>\n",
       "      <td>677.200000</td>\n",
       "      <td>4386.800000</td>\n",
       "      <td>lab 1</td>\n",
       "    </tr>\n",
       "    <tr>\n",
       "      <th>3</th>\n",
       "      <td>4.77</td>\n",
       "      <td>257.944444</td>\n",
       "      <td>191.833333</td>\n",
       "      <td>368.722222</td>\n",
       "      <td>334.666667</td>\n",
       "      <td>417.222222</td>\n",
       "      <td>195.944444</td>\n",
       "      <td>678.555556</td>\n",
       "      <td>4588.777778</td>\n",
       "      <td>lab 1</td>\n",
       "    </tr>\n",
       "    <tr>\n",
       "      <th>4</th>\n",
       "      <td>4.89</td>\n",
       "      <td>258.200000</td>\n",
       "      <td>195.733333</td>\n",
       "      <td>356.666667</td>\n",
       "      <td>333.333333</td>\n",
       "      <td>394.600000</td>\n",
       "      <td>196.000000</td>\n",
       "      <td>677.133333</td>\n",
       "      <td>4867.066667</td>\n",
       "      <td>lab 1</td>\n",
       "    </tr>\n",
       "    <tr>\n",
       "      <th>...</th>\n",
       "      <td>...</td>\n",
       "      <td>...</td>\n",
       "      <td>...</td>\n",
       "      <td>...</td>\n",
       "      <td>...</td>\n",
       "      <td>...</td>\n",
       "      <td>...</td>\n",
       "      <td>...</td>\n",
       "      <td>...</td>\n",
       "      <td>...</td>\n",
       "    </tr>\n",
       "    <tr>\n",
       "      <th>155</th>\n",
       "      <td>4.83</td>\n",
       "      <td>573.250000</td>\n",
       "      <td>361.250000</td>\n",
       "      <td>643.125000</td>\n",
       "      <td>489.812500</td>\n",
       "      <td>666.875000</td>\n",
       "      <td>355.250000</td>\n",
       "      <td>712.312500</td>\n",
       "      <td>3943.687500</td>\n",
       "      <td>lab 2</td>\n",
       "    </tr>\n",
       "    <tr>\n",
       "      <th>156</th>\n",
       "      <td>4.47</td>\n",
       "      <td>678.375000</td>\n",
       "      <td>398.125000</td>\n",
       "      <td>678.250000</td>\n",
       "      <td>541.125000</td>\n",
       "      <td>704.000000</td>\n",
       "      <td>393.500000</td>\n",
       "      <td>788.812500</td>\n",
       "      <td>3928.187500</td>\n",
       "      <td>lab 2</td>\n",
       "    </tr>\n",
       "    <tr>\n",
       "      <th>157</th>\n",
       "      <td>4.63</td>\n",
       "      <td>634.000000</td>\n",
       "      <td>382.866667</td>\n",
       "      <td>657.466667</td>\n",
       "      <td>505.066667</td>\n",
       "      <td>719.200000</td>\n",
       "      <td>366.600000</td>\n",
       "      <td>792.133333</td>\n",
       "      <td>3861.200000</td>\n",
       "      <td>lab 2</td>\n",
       "    </tr>\n",
       "    <tr>\n",
       "      <th>158</th>\n",
       "      <td>4.35</td>\n",
       "      <td>615.312500</td>\n",
       "      <td>366.750000</td>\n",
       "      <td>642.937500</td>\n",
       "      <td>483.687500</td>\n",
       "      <td>675.625000</td>\n",
       "      <td>359.062500</td>\n",
       "      <td>730.125000</td>\n",
       "      <td>3859.062500</td>\n",
       "      <td>lab 2</td>\n",
       "    </tr>\n",
       "    <tr>\n",
       "      <th>159</th>\n",
       "      <td>4.43</td>\n",
       "      <td>575.200000</td>\n",
       "      <td>350.266667</td>\n",
       "      <td>648.333333</td>\n",
       "      <td>495.400000</td>\n",
       "      <td>679.800000</td>\n",
       "      <td>346.266667</td>\n",
       "      <td>718.733333</td>\n",
       "      <td>3903.333333</td>\n",
       "      <td>lab 2</td>\n",
       "    </tr>\n",
       "  </tbody>\n",
       "</table>\n",
       "<p>160 rows × 10 columns</p>\n",
       "</div>"
      ],
      "text/plain": [
       "     target          v1          v2          v3          v4          v5  \\\n",
       "0      4.63  260.600000  199.000000  391.333333  371.733333  466.800000   \n",
       "1      5.00  263.200000  194.600000  393.666667  348.533333  401.800000   \n",
       "2      4.91  247.266667  205.800000  375.466667  354.866667  419.000000   \n",
       "3      4.77  257.944444  191.833333  368.722222  334.666667  417.222222   \n",
       "4      4.89  258.200000  195.733333  356.666667  333.333333  394.600000   \n",
       "..      ...         ...         ...         ...         ...         ...   \n",
       "155    4.83  573.250000  361.250000  643.125000  489.812500  666.875000   \n",
       "156    4.47  678.375000  398.125000  678.250000  541.125000  704.000000   \n",
       "157    4.63  634.000000  382.866667  657.466667  505.066667  719.200000   \n",
       "158    4.35  615.312500  366.750000  642.937500  483.687500  675.625000   \n",
       "159    4.43  575.200000  350.266667  648.333333  495.400000  679.800000   \n",
       "\n",
       "             v6          v7           v8 sample_type  \n",
       "0    273.133333  742.066667  4047.733333       lab 1  \n",
       "1    220.066667  712.000000  4673.466667       lab 1  \n",
       "2    222.133333  677.200000  4386.800000       lab 1  \n",
       "3    195.944444  678.555556  4588.777778       lab 1  \n",
       "4    196.000000  677.133333  4867.066667       lab 1  \n",
       "..          ...         ...          ...         ...  \n",
       "155  355.250000  712.312500  3943.687500       lab 2  \n",
       "156  393.500000  788.812500  3928.187500       lab 2  \n",
       "157  366.600000  792.133333  3861.200000       lab 2  \n",
       "158  359.062500  730.125000  3859.062500       lab 2  \n",
       "159  346.266667  718.733333  3903.333333       lab 2  \n",
       "\n",
       "[160 rows x 10 columns]"
      ]
     },
     "execution_count": 28,
     "metadata": {},
     "output_type": "execute_result"
    }
   ],
   "source": [
    "df_train_test = df\n",
    "df_train_test"
   ]
  },
  {
   "attachments": {},
   "cell_type": "markdown",
   "metadata": {},
   "source": [
    "### Feature Engineering"
   ]
  },
  {
   "attachments": {},
   "cell_type": "markdown",
   "metadata": {},
   "source": [
    "Setelah melakukan EDA kita mengetahui bahwa 'sample_type' hanyalah mengidentifikasikan mobil dan informasinya tidaklah penting untuk proses kedepannya. oleh karena itu saya akan menghapus column 'sample_type'"
   ]
  },
  {
   "cell_type": "code",
   "execution_count": 29,
   "metadata": {},
   "outputs": [],
   "source": [
    "df_train_test.drop(columns=['sample_type'], inplace=True, axis=1)"
   ]
  },
  {
   "attachments": {},
   "cell_type": "markdown",
   "metadata": {},
   "source": [
    "### Handling Missing Value"
   ]
  },
  {
   "cell_type": "code",
   "execution_count": 30,
   "metadata": {},
   "outputs": [
    {
     "data": {
      "text/plain": [
       "target    0\n",
       "v1        0\n",
       "v2        0\n",
       "v3        0\n",
       "v4        0\n",
       "v5        0\n",
       "v6        0\n",
       "v7        0\n",
       "v8        0\n",
       "dtype: int64"
      ]
     },
     "execution_count": 30,
     "metadata": {},
     "output_type": "execute_result"
    }
   ],
   "source": [
    "df_train_test.isna().sum()"
   ]
  },
  {
   "attachments": {},
   "cell_type": "markdown",
   "metadata": {},
   "source": [
    "### Splitting Data"
   ]
  },
  {
   "cell_type": "code",
   "execution_count": 31,
   "metadata": {},
   "outputs": [
    {
     "data": {
      "text/html": [
       "<div>\n",
       "<style scoped>\n",
       "    .dataframe tbody tr th:only-of-type {\n",
       "        vertical-align: middle;\n",
       "    }\n",
       "\n",
       "    .dataframe tbody tr th {\n",
       "        vertical-align: top;\n",
       "    }\n",
       "\n",
       "    .dataframe thead th {\n",
       "        text-align: right;\n",
       "    }\n",
       "</style>\n",
       "<table border=\"1\" class=\"dataframe\">\n",
       "  <thead>\n",
       "    <tr style=\"text-align: right;\">\n",
       "      <th></th>\n",
       "      <th>v1</th>\n",
       "      <th>v2</th>\n",
       "      <th>v3</th>\n",
       "      <th>v4</th>\n",
       "      <th>v5</th>\n",
       "      <th>v6</th>\n",
       "      <th>v7</th>\n",
       "      <th>v8</th>\n",
       "    </tr>\n",
       "  </thead>\n",
       "  <tbody>\n",
       "    <tr>\n",
       "      <th>0</th>\n",
       "      <td>260.600000</td>\n",
       "      <td>199.000000</td>\n",
       "      <td>391.333333</td>\n",
       "      <td>371.733333</td>\n",
       "      <td>466.800000</td>\n",
       "      <td>273.133333</td>\n",
       "      <td>742.066667</td>\n",
       "      <td>4047.733333</td>\n",
       "    </tr>\n",
       "    <tr>\n",
       "      <th>1</th>\n",
       "      <td>263.200000</td>\n",
       "      <td>194.600000</td>\n",
       "      <td>393.666667</td>\n",
       "      <td>348.533333</td>\n",
       "      <td>401.800000</td>\n",
       "      <td>220.066667</td>\n",
       "      <td>712.000000</td>\n",
       "      <td>4673.466667</td>\n",
       "    </tr>\n",
       "    <tr>\n",
       "      <th>2</th>\n",
       "      <td>247.266667</td>\n",
       "      <td>205.800000</td>\n",
       "      <td>375.466667</td>\n",
       "      <td>354.866667</td>\n",
       "      <td>419.000000</td>\n",
       "      <td>222.133333</td>\n",
       "      <td>677.200000</td>\n",
       "      <td>4386.800000</td>\n",
       "    </tr>\n",
       "    <tr>\n",
       "      <th>3</th>\n",
       "      <td>257.944444</td>\n",
       "      <td>191.833333</td>\n",
       "      <td>368.722222</td>\n",
       "      <td>334.666667</td>\n",
       "      <td>417.222222</td>\n",
       "      <td>195.944444</td>\n",
       "      <td>678.555556</td>\n",
       "      <td>4588.777778</td>\n",
       "    </tr>\n",
       "    <tr>\n",
       "      <th>4</th>\n",
       "      <td>258.200000</td>\n",
       "      <td>195.733333</td>\n",
       "      <td>356.666667</td>\n",
       "      <td>333.333333</td>\n",
       "      <td>394.600000</td>\n",
       "      <td>196.000000</td>\n",
       "      <td>677.133333</td>\n",
       "      <td>4867.066667</td>\n",
       "    </tr>\n",
       "  </tbody>\n",
       "</table>\n",
       "</div>"
      ],
      "text/plain": [
       "           v1          v2          v3          v4          v5          v6  \\\n",
       "0  260.600000  199.000000  391.333333  371.733333  466.800000  273.133333   \n",
       "1  263.200000  194.600000  393.666667  348.533333  401.800000  220.066667   \n",
       "2  247.266667  205.800000  375.466667  354.866667  419.000000  222.133333   \n",
       "3  257.944444  191.833333  368.722222  334.666667  417.222222  195.944444   \n",
       "4  258.200000  195.733333  356.666667  333.333333  394.600000  196.000000   \n",
       "\n",
       "           v7           v8  \n",
       "0  742.066667  4047.733333  \n",
       "1  712.000000  4673.466667  \n",
       "2  677.200000  4386.800000  \n",
       "3  678.555556  4588.777778  \n",
       "4  677.133333  4867.066667  "
      ]
     },
     "execution_count": 31,
     "metadata": {},
     "output_type": "execute_result"
    }
   ],
   "source": [
    "#Split between 'X' (features) and 'y' (target)\n",
    "X = df_train_test.drop('target', axis=1) #axis=1 ==> column\n",
    "y = df_train_test['target']\n",
    "X.head()"
   ]
  },
  {
   "cell_type": "code",
   "execution_count": 32,
   "metadata": {},
   "outputs": [
    {
     "name": "stdout",
     "output_type": "stream",
     "text": [
      "Train Size:  (128, 8)\n",
      "Test Size:  (32, 8)\n"
     ]
    }
   ],
   "source": [
    "X_train, X_test, y_train, y_test = train_test_split(X, y, test_size=0.2, random_state=31)\n",
    "print('Train Size: ', X_train.shape)\n",
    "print('Test Size: ', X_test.shape)"
   ]
  },
  {
   "attachments": {},
   "cell_type": "markdown",
   "metadata": {},
   "source": [
    "### Handling Outlier"
   ]
  },
  {
   "attachments": {},
   "cell_type": "markdown",
   "metadata": {},
   "source": [
    "#### Cek Distribusi data"
   ]
  },
  {
   "cell_type": "code",
   "execution_count": 33,
   "metadata": {},
   "outputs": [
    {
     "data": {
      "image/png": "[encoded data removed]",
      "text/plain": [
       "<Figure size 1440x1080 with 9 Axes>"
      ]
     },
     "metadata": {
      "needs_background": "light"
     },
     "output_type": "display_data"
    }
   ],
   "source": [
    "#cek distribution\n",
    "X_train.hist(bins=50, figsize=(20, 15))\n",
    "plt.show()"
   ]
  },
  {
   "cell_type": "code",
   "execution_count": 34,
   "metadata": {},
   "outputs": [],
   "source": [
    "# Making a function to visualize the outliers and graph\n",
    "def diagnostic_plots(df, variable):\n",
    "    # Define figure size\n",
    "    plt.figure(figsize=(16, 4))\n",
    "\n",
    "    # Histogram\n",
    "    plt.subplot(1, 2, 1)\n",
    "    sns.histplot(df[variable], bins=30)\n",
    "    plt.title('Histogram')\n",
    "\n",
    "    # Boxplot\n",
    "    plt.subplot(1, 2, 2)\n",
    "    sns.boxplot(y=df[variable])\n",
    "    plt.title('Boxplot')\n",
    "\n",
    "    plt.show()"
   ]
  },
  {
   "cell_type": "code",
   "execution_count": 35,
   "metadata": {},
   "outputs": [],
   "source": [
    "# Function mencari outlier\n",
    "def upper_lower(df, col):\n",
    "    IQR = df[col].quantile(0.75) - df[col].quantile(0.25)\n",
    "    upper_bound = df[col].quantile(0.75) + 1.5 * IQR\n",
    "    lower_bound = df[col].quantile(0.25) - 1.5 * IQR\n",
    "    return df[(df[col] > lower_bound) & (df[col] < upper_bound)]"
   ]
  },
  {
   "cell_type": "code",
   "execution_count": 36,
   "metadata": {},
   "outputs": [],
   "source": [
    "# Looping to check the Distribution of each column\n",
    "dist_check = X_train.skew(numeric_only=True)\n",
    "\n",
    "normal_dist = []\n",
    "skew_dist = []\n",
    "for x in range(len(dist_check)):\n",
    "    if dist_check.values[x] < -0.5:\n",
    "        skew_dist.append(dist_check.index[x])\n",
    "    elif dist_check.values[x] > 0.5:\n",
    "        skew_dist.append(dist_check.index[x])\n",
    "    else:\n",
    "        normal_dist.append(dist_check.index[x])"
   ]
  },
  {
   "cell_type": "code",
   "execution_count": 37,
   "metadata": {},
   "outputs": [
    {
     "name": "stdout",
     "output_type": "stream",
     "text": [
      "Skewed distribution : ['v1', 'v2', 'v3', 'v4', 'v5', 'v6', 'v8']\n",
      "\n",
      "Normal distribution : ['v7']\n"
     ]
    }
   ],
   "source": [
    "# Skewed distribution\n",
    "print('Skewed distribution :', skew_dist)\n",
    "print(\"\")\n",
    "# Normal distribution\n",
    "print('Normal distribution :',normal_dist)"
   ]
  },
  {
   "cell_type": "code",
   "execution_count": 38,
   "metadata": {},
   "outputs": [
    {
     "data": {
      "image/png": "[encoded data removed]",
      "text/plain": [
       "<Figure size 1152x288 with 2 Axes>"
      ]
     },
     "metadata": {
      "needs_background": "light"
     },
     "output_type": "display_data"
    },
    {
     "data": {
      "image/png": "[encoded data removed]",
      "text/plain": [
       "<Figure size 1152x288 with 2 Axes>"
      ]
     },
     "metadata": {
      "needs_background": "light"
     },
     "output_type": "display_data"
    },
    {
     "data": {
      "image/png": "[encoded data removed]",
      "text/plain": [
       "<Figure size 1152x288 with 2 Axes>"
      ]
     },
     "metadata": {
      "needs_background": "light"
     },
     "output_type": "display_data"
    },
    {
     "data": {
      "image/png": "[encoded data removed]",
      "text/plain": [
       "<Figure size 1152x288 with 2 Axes>"
      ]
     },
     "metadata": {
      "needs_background": "light"
     },
     "output_type": "display_data"
    },
    {
     "data": {
      "image/png": "[encoded data removed]",
      "text/plain": [
       "<Figure size 1152x288 with 2 Axes>"
      ]
     },
     "metadata": {
      "needs_background": "light"
     },
     "output_type": "display_data"
    },
    {
     "data": {
      "image/png": "[encoded data removed]",
      "text/plain": [
       "<Figure size 1152x288 with 2 Axes>"
      ]
     },
     "metadata": {
      "needs_background": "light"
     },
     "output_type": "display_data"
    },
    {
     "data": {
      "image/png": "[encoded data removed]",
      "text/plain": [
       "<Figure size 1152x288 with 2 Axes>"
      ]
     },
     "metadata": {
      "needs_background": "light"
     },
     "output_type": "display_data"
    },
    {
     "data": {
      "image/png": "[encoded data removed]",
      "text/plain": [
       "<Figure size 1152x288 with 2 Axes>"
      ]
     },
     "metadata": {
      "needs_background": "light"
     },
     "output_type": "display_data"
    }
   ],
   "source": [
    "#Visualising the outliers\n",
    "diagnostic_plots(X_train,'v1')\n",
    "diagnostic_plots(X_train,'v2')\n",
    "diagnostic_plots(X_train,'v3')\n",
    "diagnostic_plots(X_train,'v4')\n",
    "diagnostic_plots(X_train,'v5')\n",
    "diagnostic_plots(X_train,'v6')\n",
    "diagnostic_plots(X_train,'v7')\n",
    "diagnostic_plots(X_train,'v8')"
   ]
  },
  {
   "cell_type": "code",
   "execution_count": 39,
   "metadata": {},
   "outputs": [],
   "source": [
    "#Making a function to check the outliers of the data with Skewed Distributed \n",
    "def detect_skew(df, variable, distance):\n",
    "    \n",
    "    for i in variable:\n",
    "        \n",
    "        IQR = df[variable].quantile(0.75) - df[variable].quantile(0.25)\n",
    "        lower_boundary = df[variable].quantile(0.25) - (IQR * distance)\n",
    "        upper_boundary = df[variable].quantile(0.75) + (IQR * distance)\n",
    "\n",
    "        upper_boundary_count = df[(df[variable] > upper_boundary)][variable].count()\n",
    "\n",
    "        lower_boundary_count = df[(df[variable] < lower_boundary)][variable].count()\n",
    "        \n",
    "        total_count = upper_boundary_count + lower_boundary_count\n",
    "\n",
    "        percentage = (total_count/len(df[variable])*100)\n",
    "\n",
    "        text = ({'Variable':variable, 'Total Outliers':total_count, 'Percentage':percentage})\n",
    "\n",
    "    return print(text)"
   ]
  },
  {
   "cell_type": "code",
   "execution_count": 40,
   "metadata": {},
   "outputs": [
    {
     "name": "stdout",
     "output_type": "stream",
     "text": [
      "{'Variable': 'v1', 'Total Outliers': 0, 'Percentage': 0.0}\n",
      "{'Variable': 'v2', 'Total Outliers': 21, 'Percentage': 16.40625}\n",
      "{'Variable': 'v3', 'Total Outliers': 0, 'Percentage': 0.0}\n",
      "{'Variable': 'v4', 'Total Outliers': 9, 'Percentage': 7.03125}\n",
      "{'Variable': 'v5', 'Total Outliers': 21, 'Percentage': 16.40625}\n",
      "{'Variable': 'v6', 'Total Outliers': 20, 'Percentage': 15.625}\n",
      "{'Variable': 'v8', 'Total Outliers': 2, 'Percentage': 1.5625}\n"
     ]
    }
   ],
   "source": [
    "#Checking the outliers in the normal range\n",
    "for i in skew_dist:\n",
    "    detect_skew(X_train, variable=i, distance=1.5)"
   ]
  },
  {
   "attachments": {},
   "cell_type": "markdown",
   "metadata": {},
   "source": [
    "Pada bagian ini akan dilakukan handling pada untuk outlier, dimana:\n",
    "- jika **outlier >0% dan outlier <15%** maka akan dilakukan **capping**\n",
    "- jika **outlier >=15%** maka akan **dibiarkan**"
   ]
  },
  {
   "attachments": {},
   "cell_type": "markdown",
   "metadata": {},
   "source": [
    "maka feature yang akan dilakukan capping adalah variable=['v4'] karena presentase hanya 9% yang lainnya lebih dari 15% dan 0%\n"
   ]
  },
  {
   "cell_type": "code",
   "execution_count": 41,
   "metadata": {},
   "outputs": [],
   "source": [
    "#Censoring\n",
    "windsoriser = Winsorizer(capping_method='iqr', \n",
    "                          tail='both',  #Censor both the right and left end outliers\n",
    "                          fold=1.5, #In normal range\n",
    "                          variables=['v4','v8'])\n",
    "\n",
    "windsoriser.fit(X_train)\n",
    "\n",
    "X_train_cen = windsoriser.transform(X_train)"
   ]
  },
  {
   "cell_type": "code",
   "execution_count": 42,
   "metadata": {},
   "outputs": [
    {
     "data": {
      "text/html": [
       "<div>\n",
       "<style scoped>\n",
       "    .dataframe tbody tr th:only-of-type {\n",
       "        vertical-align: middle;\n",
       "    }\n",
       "\n",
       "    .dataframe tbody tr th {\n",
       "        vertical-align: top;\n",
       "    }\n",
       "\n",
       "    .dataframe thead th {\n",
       "        text-align: right;\n",
       "    }\n",
       "</style>\n",
       "<table border=\"1\" class=\"dataframe\">\n",
       "  <thead>\n",
       "    <tr style=\"text-align: right;\">\n",
       "      <th></th>\n",
       "      <th>v1</th>\n",
       "      <th>v2</th>\n",
       "      <th>v3</th>\n",
       "      <th>v4</th>\n",
       "      <th>v5</th>\n",
       "      <th>v6</th>\n",
       "      <th>v7</th>\n",
       "      <th>v8</th>\n",
       "    </tr>\n",
       "  </thead>\n",
       "  <tbody>\n",
       "    <tr>\n",
       "      <th>8</th>\n",
       "      <td>269.0000</td>\n",
       "      <td>191.466667</td>\n",
       "      <td>381.2000</td>\n",
       "      <td>353.200000</td>\n",
       "      <td>403.533333</td>\n",
       "      <td>217.800000</td>\n",
       "      <td>714.533333</td>\n",
       "      <td>4751.466667</td>\n",
       "    </tr>\n",
       "    <tr>\n",
       "      <th>23</th>\n",
       "      <td>260.6875</td>\n",
       "      <td>197.625000</td>\n",
       "      <td>360.9375</td>\n",
       "      <td>339.125000</td>\n",
       "      <td>395.562500</td>\n",
       "      <td>198.125000</td>\n",
       "      <td>687.875000</td>\n",
       "      <td>4724.375000</td>\n",
       "    </tr>\n",
       "    <tr>\n",
       "      <th>94</th>\n",
       "      <td>305.2500</td>\n",
       "      <td>234.250000</td>\n",
       "      <td>434.1250</td>\n",
       "      <td>392.937500</td>\n",
       "      <td>458.500000</td>\n",
       "      <td>252.375000</td>\n",
       "      <td>741.250000</td>\n",
       "      <td>4783.437500</td>\n",
       "    </tr>\n",
       "    <tr>\n",
       "      <th>54</th>\n",
       "      <td>302.6000</td>\n",
       "      <td>237.200000</td>\n",
       "      <td>437.2000</td>\n",
       "      <td>432.466667</td>\n",
       "      <td>532.266667</td>\n",
       "      <td>319.333333</td>\n",
       "      <td>853.466667</td>\n",
       "      <td>4111.733333</td>\n",
       "    </tr>\n",
       "    <tr>\n",
       "      <th>114</th>\n",
       "      <td>536.4375</td>\n",
       "      <td>204.000000</td>\n",
       "      <td>587.4375</td>\n",
       "      <td>364.562500</td>\n",
       "      <td>460.875000</td>\n",
       "      <td>202.500000</td>\n",
       "      <td>647.125000</td>\n",
       "      <td>4573.312500</td>\n",
       "    </tr>\n",
       "  </tbody>\n",
       "</table>\n",
       "</div>"
      ],
      "text/plain": [
       "           v1          v2        v3          v4          v5          v6  \\\n",
       "8    269.0000  191.466667  381.2000  353.200000  403.533333  217.800000   \n",
       "23   260.6875  197.625000  360.9375  339.125000  395.562500  198.125000   \n",
       "94   305.2500  234.250000  434.1250  392.937500  458.500000  252.375000   \n",
       "54   302.6000  237.200000  437.2000  432.466667  532.266667  319.333333   \n",
       "114  536.4375  204.000000  587.4375  364.562500  460.875000  202.500000   \n",
       "\n",
       "             v7           v8  \n",
       "8    714.533333  4751.466667  \n",
       "23   687.875000  4724.375000  \n",
       "94   741.250000  4783.437500  \n",
       "54   853.466667  4111.733333  \n",
       "114  647.125000  4573.312500  "
      ]
     },
     "execution_count": 42,
     "metadata": {},
     "output_type": "execute_result"
    }
   ],
   "source": [
    "X_train_cen.head()"
   ]
  },
  {
   "attachments": {},
   "cell_type": "markdown",
   "metadata": {},
   "source": [
    "### Feature Selection "
   ]
  },
  {
   "cell_type": "code",
   "execution_count": 43,
   "metadata": {},
   "outputs": [
    {
     "name": "stdout",
     "output_type": "stream",
     "text": [
      "Numerical Columns :  ['v1', 'v2', 'v3', 'v4', 'v5', 'v6', 'v7', 'v8']\n",
      "Categorical Columns :  []\n"
     ]
    }
   ],
   "source": [
    "# Get Numerical Columns and Categorical Columns\n",
    "\n",
    "num_columns = X_train_cen.select_dtypes(include=np.number).columns.tolist()\n",
    "cat_columns = X_train_cen.select_dtypes(include=['object']).columns.tolist()\n",
    "\n",
    "print('Numerical Columns : ', num_columns)\n",
    "print('Categorical Columns : ', cat_columns)"
   ]
  },
  {
   "cell_type": "code",
   "execution_count": 44,
   "metadata": {},
   "outputs": [],
   "source": [
    "# Split Train-Set and Test-Set based on Column Types\n",
    "\n",
    "X_train_num = X_train_cen[num_columns]\n",
    "\n",
    "\n",
    "X_test_num = X_test[num_columns]\n"
   ]
  },
  {
   "attachments": {},
   "cell_type": "markdown",
   "metadata": {},
   "source": [
    "### Feature Scaling menggunakan Pipeline"
   ]
  },
  {
   "cell_type": "code",
   "execution_count": 45,
   "metadata": {},
   "outputs": [],
   "source": [
    "num_pipeline = Pipeline([\n",
    "        ('std_scaler', StandardScaler()),\n",
    "        \n",
    "    ])\n",
    "num_pipeline.fit(X_train_num)\n",
    "X_train_final = num_pipeline.fit_transform(X_train_num)\n",
    "X_test_final = num_pipeline.fit_transform(X_test_num)"
   ]
  },
  {
   "attachments": {},
   "cell_type": "markdown",
   "metadata": {},
   "source": [
    "#### Display as DataFrame\n"
   ]
  },
  {
   "cell_type": "code",
   "execution_count": 46,
   "metadata": {},
   "outputs": [
    {
     "data": {
      "text/html": [
       "<div>\n",
       "<style scoped>\n",
       "    .dataframe tbody tr th:only-of-type {\n",
       "        vertical-align: middle;\n",
       "    }\n",
       "\n",
       "    .dataframe tbody tr th {\n",
       "        vertical-align: top;\n",
       "    }\n",
       "\n",
       "    .dataframe thead tr th {\n",
       "        text-align: left;\n",
       "    }\n",
       "</style>\n",
       "<table border=\"1\" class=\"dataframe\">\n",
       "  <thead>\n",
       "    <tr>\n",
       "      <th></th>\n",
       "      <th>v1</th>\n",
       "      <th>v2</th>\n",
       "      <th>v3</th>\n",
       "      <th>v4</th>\n",
       "      <th>v5</th>\n",
       "      <th>v6</th>\n",
       "      <th>v7</th>\n",
       "      <th>v8</th>\n",
       "    </tr>\n",
       "  </thead>\n",
       "  <tbody>\n",
       "    <tr>\n",
       "      <th>0</th>\n",
       "      <td>-0.816225</td>\n",
       "      <td>-0.633943</td>\n",
       "      <td>-0.838988</td>\n",
       "      <td>-0.650883</td>\n",
       "      <td>-0.824977</td>\n",
       "      <td>-0.539254</td>\n",
       "      <td>0.018982</td>\n",
       "      <td>0.874342</td>\n",
       "    </tr>\n",
       "    <tr>\n",
       "      <th>1</th>\n",
       "      <td>-0.874032</td>\n",
       "      <td>-0.543203</td>\n",
       "      <td>-1.014226</td>\n",
       "      <td>-0.903031</td>\n",
       "      <td>-0.907603</td>\n",
       "      <td>-0.879937</td>\n",
       "      <td>-0.498003</td>\n",
       "      <td>0.789986</td>\n",
       "    </tr>\n",
       "    <tr>\n",
       "      <th>2</th>\n",
       "      <td>-0.564138</td>\n",
       "      <td>-0.003550</td>\n",
       "      <td>-0.381271</td>\n",
       "      <td>0.060999</td>\n",
       "      <td>-0.255191</td>\n",
       "      <td>0.059431</td>\n",
       "      <td>0.537098</td>\n",
       "      <td>0.973889</td>\n",
       "    </tr>\n",
       "    <tr>\n",
       "      <th>3</th>\n",
       "      <td>-0.582567</td>\n",
       "      <td>0.039916</td>\n",
       "      <td>-0.354678</td>\n",
       "      <td>0.769148</td>\n",
       "      <td>0.509477</td>\n",
       "      <td>1.218850</td>\n",
       "      <td>2.713313</td>\n",
       "      <td>-1.117591</td>\n",
       "    </tr>\n",
       "    <tr>\n",
       "      <th>4</th>\n",
       "      <td>1.043571</td>\n",
       "      <td>-0.449270</td>\n",
       "      <td>0.944636</td>\n",
       "      <td>-0.447328</td>\n",
       "      <td>-0.230571</td>\n",
       "      <td>-0.804181</td>\n",
       "      <td>-1.288266</td>\n",
       "      <td>0.319624</td>\n",
       "    </tr>\n",
       "    <tr>\n",
       "      <th>...</th>\n",
       "      <td>...</td>\n",
       "      <td>...</td>\n",
       "      <td>...</td>\n",
       "      <td>...</td>\n",
       "      <td>...</td>\n",
       "      <td>...</td>\n",
       "      <td>...</td>\n",
       "      <td>...</td>\n",
       "    </tr>\n",
       "    <tr>\n",
       "      <th>123</th>\n",
       "      <td>1.280881</td>\n",
       "      <td>1.614485</td>\n",
       "      <td>1.304625</td>\n",
       "      <td>1.753929</td>\n",
       "      <td>1.967675</td>\n",
       "      <td>1.295326</td>\n",
       "      <td>-0.093174</td>\n",
       "      <td>-1.809947</td>\n",
       "    </tr>\n",
       "    <tr>\n",
       "      <th>124</th>\n",
       "      <td>-0.484600</td>\n",
       "      <td>0.158529</td>\n",
       "      <td>-0.233168</td>\n",
       "      <td>0.840284</td>\n",
       "      <td>0.176943</td>\n",
       "      <td>0.735818</td>\n",
       "      <td>1.812186</td>\n",
       "      <td>0.909085</td>\n",
       "    </tr>\n",
       "    <tr>\n",
       "      <th>125</th>\n",
       "      <td>0.886234</td>\n",
       "      <td>-0.388490</td>\n",
       "      <td>0.928420</td>\n",
       "      <td>-0.616397</td>\n",
       "      <td>-0.088038</td>\n",
       "      <td>-0.609382</td>\n",
       "      <td>-1.377959</td>\n",
       "      <td>0.732578</td>\n",
       "    </tr>\n",
       "    <tr>\n",
       "      <th>126</th>\n",
       "      <td>-0.831872</td>\n",
       "      <td>-0.757774</td>\n",
       "      <td>-0.947201</td>\n",
       "      <td>-0.915347</td>\n",
       "      <td>-0.885575</td>\n",
       "      <td>-0.997899</td>\n",
       "      <td>-0.859197</td>\n",
       "      <td>0.674391</td>\n",
       "    </tr>\n",
       "    <tr>\n",
       "      <th>127</th>\n",
       "      <td>-0.178763</td>\n",
       "      <td>0.400421</td>\n",
       "      <td>-0.223222</td>\n",
       "      <td>0.961431</td>\n",
       "      <td>0.077559</td>\n",
       "      <td>0.433879</td>\n",
       "      <td>1.430791</td>\n",
       "      <td>0.977716</td>\n",
       "    </tr>\n",
       "  </tbody>\n",
       "</table>\n",
       "<p>128 rows × 8 columns</p>\n",
       "</div>"
      ],
      "text/plain": [
       "           v1        v2        v3        v4        v5        v6        v7  \\\n",
       "0   -0.816225 -0.633943 -0.838988 -0.650883 -0.824977 -0.539254  0.018982   \n",
       "1   -0.874032 -0.543203 -1.014226 -0.903031 -0.907603 -0.879937 -0.498003   \n",
       "2   -0.564138 -0.003550 -0.381271  0.060999 -0.255191  0.059431  0.537098   \n",
       "3   -0.582567  0.039916 -0.354678  0.769148  0.509477  1.218850  2.713313   \n",
       "4    1.043571 -0.449270  0.944636 -0.447328 -0.230571 -0.804181 -1.288266   \n",
       "..        ...       ...       ...       ...       ...       ...       ...   \n",
       "123  1.280881  1.614485  1.304625  1.753929  1.967675  1.295326 -0.093174   \n",
       "124 -0.484600  0.158529 -0.233168  0.840284  0.176943  0.735818  1.812186   \n",
       "125  0.886234 -0.388490  0.928420 -0.616397 -0.088038 -0.609382 -1.377959   \n",
       "126 -0.831872 -0.757774 -0.947201 -0.915347 -0.885575 -0.997899 -0.859197   \n",
       "127 -0.178763  0.400421 -0.223222  0.961431  0.077559  0.433879  1.430791   \n",
       "\n",
       "           v8  \n",
       "0    0.874342  \n",
       "1    0.789986  \n",
       "2    0.973889  \n",
       "3   -1.117591  \n",
       "4    0.319624  \n",
       "..        ...  \n",
       "123 -1.809947  \n",
       "124  0.909085  \n",
       "125  0.732578  \n",
       "126  0.674391  \n",
       "127  0.977716  \n",
       "\n",
       "[128 rows x 8 columns]"
      ]
     },
     "execution_count": 46,
     "metadata": {},
     "output_type": "execute_result"
    }
   ],
   "source": [
    "X_train_final_df = pd.DataFrame(X_train_final, columns=[num_columns])\n",
    "X_train_final_df"
   ]
  },
  {
   "attachments": {},
   "cell_type": "markdown",
   "metadata": {},
   "source": [
    "### Feature Importance"
   ]
  },
  {
   "cell_type": "code",
   "execution_count": 47,
   "metadata": {},
   "outputs": [
    {
     "data": {
      "image/png": "[encoded data removed]",
      "text/plain": [
       "<Figure size 432x288 with 1 Axes>"
      ]
     },
     "metadata": {
      "needs_background": "light"
     },
     "output_type": "display_data"
    }
   ],
   "source": [
    "# Menghitung feature importance dengan menggunakan Extra trees regressor\n",
    "\n",
    "model_fi = ExtraTreesRegressor(random_state=32) #model feature importance\n",
    "model_fi.fit(X_train_final_df,y_train) # pada data X terhadap y dilakukan training (fit)\n",
    "feat_importances = pd.Series(model_fi.feature_importances_, index = X_train_final_df.columns) # memasukan feature importance dengan index nama column pada data X (features)\n",
    "feat_importances.nlargest(16).plot(kind='bar') # plot bar\n",
    "plt.title('Feature Importance')\n",
    "plt.show()"
   ]
  },
  {
   "cell_type": "markdown",
   "metadata": {},
   "source": [
    "## Model Definition"
   ]
  },
  {
   "attachments": {},
   "cell_type": "markdown",
   "metadata": {},
   "source": [
    "Saya akan menggunakan 4 model yaitu LinearRegression,DecisionTreeRegressor,RandomForestRegressor,XGBRegressor dan membandingkan score nya untuk mencari score yang terbaik untuk dijadikan prediksi model inference."
   ]
  },
  {
   "cell_type": "code",
   "execution_count": 48,
   "metadata": {},
   "outputs": [],
   "source": [
    "lin_reg = LinearRegression()\n",
    "tree_reg = DecisionTreeRegressor(random_state=20)\n",
    "forest_reg = RandomForestRegressor(random_state=31)\n",
    "xgb_reg = XGBRegressor()"
   ]
  },
  {
   "attachments": {},
   "cell_type": "markdown",
   "metadata": {},
   "source": [
    "## Model Training"
   ]
  },
  {
   "cell_type": "markdown",
   "metadata": {},
   "source": [
    "### Linear Regression"
   ]
  },
  {
   "cell_type": "code",
   "execution_count": 49,
   "metadata": {},
   "outputs": [
    {
     "data": {
      "text/html": [
       "<style>#sk-container-id-1 {color: black;background-color: white;}#sk-container-id-1 pre{padding: 0;}#sk-container-id-1 div.sk-toggleable {background-color: white;}#sk-container-id-1 label.sk-toggleable__label {cursor: pointer;display: block;width: 100%;margin-bottom: 0;padding: 0.3em;box-sizing: border-box;text-align: center;}#sk-container-id-1 label.sk-toggleable__label-arrow:before {content: \"▸\";float: left;margin-right: 0.25em;color: #696969;}#sk-container-id-1 label.sk-toggleable__label-arrow:hover:before {color: black;}#sk-container-id-1 div.sk-estimator:hover label.sk-toggleable__label-arrow:before {color: black;}#sk-container-id-1 div.sk-toggleable__content {max-height: 0;max-width: 0;overflow: hidden;text-align: left;background-color: #f0f8ff;}#sk-container-id-1 div.sk-toggleable__content pre {margin: 0.2em;color: black;border-radius: 0.25em;background-color: #f0f8ff;}#sk-container-id-1 input.sk-toggleable__control:checked~div.sk-toggleable__content {max-height: 200px;max-width: 100%;overflow: auto;}#sk-container-id-1 input.sk-toggleable__control:checked~label.sk-toggleable__label-arrow:before {content: \"▾\";}#sk-container-id-1 div.sk-estimator input.sk-toggleable__control:checked~label.sk-toggleable__label {background-color: #d4ebff;}#sk-container-id-1 div.sk-label input.sk-toggleable__control:checked~label.sk-toggleable__label {background-color: #d4ebff;}#sk-container-id-1 input.sk-hidden--visually {border: 0;clip: rect(1px 1px 1px 1px);clip: rect(1px, 1px, 1px, 1px);height: 1px;margin: -1px;overflow: hidden;padding: 0;position: absolute;width: 1px;}#sk-container-id-1 div.sk-estimator {font-family: monospace;background-color: #f0f8ff;border: 1px dotted black;border-radius: 0.25em;box-sizing: border-box;margin-bottom: 0.5em;}#sk-container-id-1 div.sk-estimator:hover {background-color: #d4ebff;}#sk-container-id-1 div.sk-parallel-item::after {content: \"\";width: 100%;border-bottom: 1px solid gray;flex-grow: 1;}#sk-container-id-1 div.sk-label:hover label.sk-toggleable__label {background-color: #d4ebff;}#sk-container-id-1 div.sk-serial::before {content: \"\";position: absolute;border-left: 1px solid gray;box-sizing: border-box;top: 0;bottom: 0;left: 50%;z-index: 0;}#sk-container-id-1 div.sk-serial {display: flex;flex-direction: column;align-items: center;background-color: white;padding-right: 0.2em;padding-left: 0.2em;position: relative;}#sk-container-id-1 div.sk-item {position: relative;z-index: 1;}#sk-container-id-1 div.sk-parallel {display: flex;align-items: stretch;justify-content: center;background-color: white;position: relative;}#sk-container-id-1 div.sk-item::before, #sk-container-id-1 div.sk-parallel-item::before {content: \"\";position: absolute;border-left: 1px solid gray;box-sizing: border-box;top: 0;bottom: 0;left: 50%;z-index: -1;}#sk-container-id-1 div.sk-parallel-item {display: flex;flex-direction: column;z-index: 1;position: relative;background-color: white;}#sk-container-id-1 div.sk-parallel-item:first-child::after {align-self: flex-end;width: 50%;}#sk-container-id-1 div.sk-parallel-item:last-child::after {align-self: flex-start;width: 50%;}#sk-container-id-1 div.sk-parallel-item:only-child::after {width: 0;}#sk-container-id-1 div.sk-dashed-wrapped {border: 1px dashed gray;margin: 0 0.4em 0.5em 0.4em;box-sizing: border-box;padding-bottom: 0.4em;background-color: white;}#sk-container-id-1 div.sk-label label {font-family: monospace;font-weight: bold;display: inline-block;line-height: 1.2em;}#sk-container-id-1 div.sk-label-container {text-align: center;}#sk-container-id-1 div.sk-container {/* jupyter's `normalize.less` sets `[hidden] { display: none; }` but bootstrap.min.css set `[hidden] { display: none !important; }` so we also need the `!important` here to be able to override the default hidden behavior on the sphinx rendered scikit-learn.org. See: https://github.com/scikit-learn/scikit-learn/issues/21755 */display: inline-block !important;position: relative;}#sk-container-id-1 div.sk-text-repr-fallback {display: none;}</style><div id=\"sk-container-id-1\" class=\"sk-top-container\"><div class=\"sk-text-repr-fallback\"><pre>LinearRegression()</pre><b>In a Jupyter environment, please rerun this cell to show the HTML representation or trust the notebook. <br />On GitHub, the HTML representation is unable to render, please try loading this page with nbviewer.org.</b></div><div class=\"sk-container\" hidden><div class=\"sk-item\"><div class=\"sk-estimator sk-toggleable\"><input class=\"sk-toggleable__control sk-hidden--visually\" id=\"sk-estimator-id-1\" type=\"checkbox\" checked><label for=\"sk-estimator-id-1\" class=\"sk-toggleable__label sk-toggleable__label-arrow\">LinearRegression</label><div class=\"sk-toggleable__content\"><pre>LinearRegression()</pre></div></div></div></div></div>"
      ],
      "text/plain": [
       "LinearRegression()"
      ]
     },
     "execution_count": 49,
     "metadata": {},
     "output_type": "execute_result"
    }
   ],
   "source": [
    "lin_reg.fit(X_train_final,y_train)"
   ]
  },
  {
   "cell_type": "code",
   "execution_count": 50,
   "metadata": {},
   "outputs": [],
   "source": [
    "lin_reg_predict = lin_reg.predict(X_test_final)"
   ]
  },
  {
   "cell_type": "code",
   "execution_count": 51,
   "metadata": {},
   "outputs": [
    {
     "name": "stdout",
     "output_type": "stream",
     "text": [
      "Mean squared error: 0.042520624449441144\n",
      "Mean absolute error: 0.16456118071299827\n",
      "R2 score: 0.05322134706508819\n"
     ]
    }
   ],
   "source": [
    "print(\"Mean squared error:\",mean_squared_error(y_test,lin_reg_predict))\n",
    "print(\"Mean absolute error:\",mean_absolute_error(y_test,lin_reg_predict))\n",
    "print(\"R2 score:\",r2_score(y_test,lin_reg_predict))"
   ]
  },
  {
   "cell_type": "markdown",
   "metadata": {},
   "source": [
    "### Cross Validation Linear Regression"
   ]
  },
  {
   "cell_type": "code",
   "execution_count": 52,
   "metadata": {},
   "outputs": [],
   "source": [
    "def display_scores(scores):\n",
    "    print(\"Scores:\", scores)\n",
    "    print(\"Mean:\", scores.mean())\n",
    "    print(\"Standard deviation:\", scores.std())\n"
   ]
  },
  {
   "cell_type": "code",
   "execution_count": 53,
   "metadata": {},
   "outputs": [],
   "source": [
    "scores = cross_val_score(lin_reg, X_train_final, y_train,\n",
    "                         scoring=\"neg_mean_squared_error\", cv=10)\n",
    "lin_rmse_scores = np.sqrt(-scores)"
   ]
  },
  {
   "cell_type": "code",
   "execution_count": 54,
   "metadata": {},
   "outputs": [
    {
     "name": "stdout",
     "output_type": "stream",
     "text": [
      "Scores: [0.19745335 0.12908534 0.18290552 0.17392874 0.25342016 0.18204567\n",
      " 0.22462996 0.18413901 0.18886322 0.16215508]\n",
      "Mean: 0.18786260623542872\n",
      "Standard deviation: 0.03181931234365971\n"
     ]
    }
   ],
   "source": [
    "display_scores(lin_rmse_scores)"
   ]
  },
  {
   "cell_type": "markdown",
   "metadata": {},
   "source": [
    "### Desicion Tree Regressor"
   ]
  },
  {
   "cell_type": "code",
   "execution_count": 55,
   "metadata": {},
   "outputs": [
    {
     "data": {
      "text/html": [
       "<style>#sk-container-id-2 {color: black;background-color: white;}#sk-container-id-2 pre{padding: 0;}#sk-container-id-2 div.sk-toggleable {background-color: white;}#sk-container-id-2 label.sk-toggleable__label {cursor: pointer;display: block;width: 100%;margin-bottom: 0;padding: 0.3em;box-sizing: border-box;text-align: center;}#sk-container-id-2 label.sk-toggleable__label-arrow:before {content: \"▸\";float: left;margin-right: 0.25em;color: #696969;}#sk-container-id-2 label.sk-toggleable__label-arrow:hover:before {color: black;}#sk-container-id-2 div.sk-estimator:hover label.sk-toggleable__label-arrow:before {color: black;}#sk-container-id-2 div.sk-toggleable__content {max-height: 0;max-width: 0;overflow: hidden;text-align: left;background-color: #f0f8ff;}#sk-container-id-2 div.sk-toggleable__content pre {margin: 0.2em;color: black;border-radius: 0.25em;background-color: #f0f8ff;}#sk-container-id-2 input.sk-toggleable__control:checked~div.sk-toggleable__content {max-height: 200px;max-width: 100%;overflow: auto;}#sk-container-id-2 input.sk-toggleable__control:checked~label.sk-toggleable__label-arrow:before {content: \"▾\";}#sk-container-id-2 div.sk-estimator input.sk-toggleable__control:checked~label.sk-toggleable__label {background-color: #d4ebff;}#sk-container-id-2 div.sk-label input.sk-toggleable__control:checked~label.sk-toggleable__label {background-color: #d4ebff;}#sk-container-id-2 input.sk-hidden--visually {border: 0;clip: rect(1px 1px 1px 1px);clip: rect(1px, 1px, 1px, 1px);height: 1px;margin: -1px;overflow: hidden;padding: 0;position: absolute;width: 1px;}#sk-container-id-2 div.sk-estimator {font-family: monospace;background-color: #f0f8ff;border: 1px dotted black;border-radius: 0.25em;box-sizing: border-box;margin-bottom: 0.5em;}#sk-container-id-2 div.sk-estimator:hover {background-color: #d4ebff;}#sk-container-id-2 div.sk-parallel-item::after {content: \"\";width: 100%;border-bottom: 1px solid gray;flex-grow: 1;}#sk-container-id-2 div.sk-label:hover label.sk-toggleable__label {background-color: #d4ebff;}#sk-container-id-2 div.sk-serial::before {content: \"\";position: absolute;border-left: 1px solid gray;box-sizing: border-box;top: 0;bottom: 0;left: 50%;z-index: 0;}#sk-container-id-2 div.sk-serial {display: flex;flex-direction: column;align-items: center;background-color: white;padding-right: 0.2em;padding-left: 0.2em;position: relative;}#sk-container-id-2 div.sk-item {position: relative;z-index: 1;}#sk-container-id-2 div.sk-parallel {display: flex;align-items: stretch;justify-content: center;background-color: white;position: relative;}#sk-container-id-2 div.sk-item::before, #sk-container-id-2 div.sk-parallel-item::before {content: \"\";position: absolute;border-left: 1px solid gray;box-sizing: border-box;top: 0;bottom: 0;left: 50%;z-index: -1;}#sk-container-id-2 div.sk-parallel-item {display: flex;flex-direction: column;z-index: 1;position: relative;background-color: white;}#sk-container-id-2 div.sk-parallel-item:first-child::after {align-self: flex-end;width: 50%;}#sk-container-id-2 div.sk-parallel-item:last-child::after {align-self: flex-start;width: 50%;}#sk-container-id-2 div.sk-parallel-item:only-child::after {width: 0;}#sk-container-id-2 div.sk-dashed-wrapped {border: 1px dashed gray;margin: 0 0.4em 0.5em 0.4em;box-sizing: border-box;padding-bottom: 0.4em;background-color: white;}#sk-container-id-2 div.sk-label label {font-family: monospace;font-weight: bold;display: inline-block;line-height: 1.2em;}#sk-container-id-2 div.sk-label-container {text-align: center;}#sk-container-id-2 div.sk-container {/* jupyter's `normalize.less` sets `[hidden] { display: none; }` but bootstrap.min.css set `[hidden] { display: none !important; }` so we also need the `!important` here to be able to override the default hidden behavior on the sphinx rendered scikit-learn.org. See: https://github.com/scikit-learn/scikit-learn/issues/21755 */display: inline-block !important;position: relative;}#sk-container-id-2 div.sk-text-repr-fallback {display: none;}</style><div id=\"sk-container-id-2\" class=\"sk-top-container\"><div class=\"sk-text-repr-fallback\"><pre>DecisionTreeRegressor(random_state=20)</pre><b>In a Jupyter environment, please rerun this cell to show the HTML representation or trust the notebook. <br />On GitHub, the HTML representation is unable to render, please try loading this page with nbviewer.org.</b></div><div class=\"sk-container\" hidden><div class=\"sk-item\"><div class=\"sk-estimator sk-toggleable\"><input class=\"sk-toggleable__control sk-hidden--visually\" id=\"sk-estimator-id-2\" type=\"checkbox\" checked><label for=\"sk-estimator-id-2\" class=\"sk-toggleable__label sk-toggleable__label-arrow\">DecisionTreeRegressor</label><div class=\"sk-toggleable__content\"><pre>DecisionTreeRegressor(random_state=20)</pre></div></div></div></div></div>"
      ],
      "text/plain": [
       "DecisionTreeRegressor(random_state=20)"
      ]
     },
     "execution_count": 55,
     "metadata": {},
     "output_type": "execute_result"
    }
   ],
   "source": [
    "tree_reg.fit(X_train_final,y_train)"
   ]
  },
  {
   "cell_type": "code",
   "execution_count": 56,
   "metadata": {},
   "outputs": [],
   "source": [
    "tree_reg_predict = tree_reg.predict(X_test_final)\n"
   ]
  },
  {
   "cell_type": "code",
   "execution_count": 57,
   "metadata": {},
   "outputs": [
    {
     "name": "stdout",
     "output_type": "stream",
     "text": [
      "Mean squared error: 0.08576562499999993\n",
      "Mean absolute error: 0.23406249999999995\n",
      "R2 score: -0.9096865099470091\n"
     ]
    }
   ],
   "source": [
    "print(\"Mean squared error:\",mean_squared_error(y_test,tree_reg_predict))\n",
    "print(\"Mean absolute error:\",mean_absolute_error(y_test,tree_reg_predict))\n",
    "print(\"R2 score:\",r2_score(y_test,tree_reg_predict))"
   ]
  },
  {
   "cell_type": "markdown",
   "metadata": {},
   "source": [
    "### Cross Validation Desicion Tree"
   ]
  },
  {
   "cell_type": "code",
   "execution_count": 58,
   "metadata": {},
   "outputs": [],
   "source": [
    "scores = cross_val_score(tree_reg, X_train_final, y_train,\n",
    "                         scoring=\"neg_mean_squared_error\", cv=10)\n",
    "tree_rmse_scores = np.sqrt(-scores)"
   ]
  },
  {
   "cell_type": "code",
   "execution_count": 59,
   "metadata": {},
   "outputs": [
    {
     "name": "stdout",
     "output_type": "stream",
     "text": [
      "Scores: [0.27225554 0.24746406 0.19641009 0.18208198 0.26944387 0.23748684\n",
      " 0.15954262 0.20678863 0.22299103 0.15832456]\n",
      "Mean: 0.21527892163134005\n",
      "Standard deviation: 0.039559092490643016\n"
     ]
    }
   ],
   "source": [
    "display_scores(tree_rmse_scores)"
   ]
  },
  {
   "cell_type": "markdown",
   "metadata": {},
   "source": [
    "### Random Forest Regressor"
   ]
  },
  {
   "cell_type": "code",
   "execution_count": 60,
   "metadata": {},
   "outputs": [
    {
     "data": {
      "text/html": [
       "<style>#sk-container-id-3 {color: black;background-color: white;}#sk-container-id-3 pre{padding: 0;}#sk-container-id-3 div.sk-toggleable {background-color: white;}#sk-container-id-3 label.sk-toggleable__label {cursor: pointer;display: block;width: 100%;margin-bottom: 0;padding: 0.3em;box-sizing: border-box;text-align: center;}#sk-container-id-3 label.sk-toggleable__label-arrow:before {content: \"▸\";float: left;margin-right: 0.25em;color: #696969;}#sk-container-id-3 label.sk-toggleable__label-arrow:hover:before {color: black;}#sk-container-id-3 div.sk-estimator:hover label.sk-toggleable__label-arrow:before {color: black;}#sk-container-id-3 div.sk-toggleable__content {max-height: 0;max-width: 0;overflow: hidden;text-align: left;background-color: #f0f8ff;}#sk-container-id-3 div.sk-toggleable__content pre {margin: 0.2em;color: black;border-radius: 0.25em;background-color: #f0f8ff;}#sk-container-id-3 input.sk-toggleable__control:checked~div.sk-toggleable__content {max-height: 200px;max-width: 100%;overflow: auto;}#sk-container-id-3 input.sk-toggleable__control:checked~label.sk-toggleable__label-arrow:before {content: \"▾\";}#sk-container-id-3 div.sk-estimator input.sk-toggleable__control:checked~label.sk-toggleable__label {background-color: #d4ebff;}#sk-container-id-3 div.sk-label input.sk-toggleable__control:checked~label.sk-toggleable__label {background-color: #d4ebff;}#sk-container-id-3 input.sk-hidden--visually {border: 0;clip: rect(1px 1px 1px 1px);clip: rect(1px, 1px, 1px, 1px);height: 1px;margin: -1px;overflow: hidden;padding: 0;position: absolute;width: 1px;}#sk-container-id-3 div.sk-estimator {font-family: monospace;background-color: #f0f8ff;border: 1px dotted black;border-radius: 0.25em;box-sizing: border-box;margin-bottom: 0.5em;}#sk-container-id-3 div.sk-estimator:hover {background-color: #d4ebff;}#sk-container-id-3 div.sk-parallel-item::after {content: \"\";width: 100%;border-bottom: 1px solid gray;flex-grow: 1;}#sk-container-id-3 div.sk-label:hover label.sk-toggleable__label {background-color: #d4ebff;}#sk-container-id-3 div.sk-serial::before {content: \"\";position: absolute;border-left: 1px solid gray;box-sizing: border-box;top: 0;bottom: 0;left: 50%;z-index: 0;}#sk-container-id-3 div.sk-serial {display: flex;flex-direction: column;align-items: center;background-color: white;padding-right: 0.2em;padding-left: 0.2em;position: relative;}#sk-container-id-3 div.sk-item {position: relative;z-index: 1;}#sk-container-id-3 div.sk-parallel {display: flex;align-items: stretch;justify-content: center;background-color: white;position: relative;}#sk-container-id-3 div.sk-item::before, #sk-container-id-3 div.sk-parallel-item::before {content: \"\";position: absolute;border-left: 1px solid gray;box-sizing: border-box;top: 0;bottom: 0;left: 50%;z-index: -1;}#sk-container-id-3 div.sk-parallel-item {display: flex;flex-direction: column;z-index: 1;position: relative;background-color: white;}#sk-container-id-3 div.sk-parallel-item:first-child::after {align-self: flex-end;width: 50%;}#sk-container-id-3 div.sk-parallel-item:last-child::after {align-self: flex-start;width: 50%;}#sk-container-id-3 div.sk-parallel-item:only-child::after {width: 0;}#sk-container-id-3 div.sk-dashed-wrapped {border: 1px dashed gray;margin: 0 0.4em 0.5em 0.4em;box-sizing: border-box;padding-bottom: 0.4em;background-color: white;}#sk-container-id-3 div.sk-label label {font-family: monospace;font-weight: bold;display: inline-block;line-height: 1.2em;}#sk-container-id-3 div.sk-label-container {text-align: center;}#sk-container-id-3 div.sk-container {/* jupyter's `normalize.less` sets `[hidden] { display: none; }` but bootstrap.min.css set `[hidden] { display: none !important; }` so we also need the `!important` here to be able to override the default hidden behavior on the sphinx rendered scikit-learn.org. See: https://github.com/scikit-learn/scikit-learn/issues/21755 */display: inline-block !important;position: relative;}#sk-container-id-3 div.sk-text-repr-fallback {display: none;}</style><div id=\"sk-container-id-3\" class=\"sk-top-container\"><div class=\"sk-text-repr-fallback\"><pre>RandomForestRegressor(random_state=31)</pre><b>In a Jupyter environment, please rerun this cell to show the HTML representation or trust the notebook. <br />On GitHub, the HTML representation is unable to render, please try loading this page with nbviewer.org.</b></div><div class=\"sk-container\" hidden><div class=\"sk-item\"><div class=\"sk-estimator sk-toggleable\"><input class=\"sk-toggleable__control sk-hidden--visually\" id=\"sk-estimator-id-3\" type=\"checkbox\" checked><label for=\"sk-estimator-id-3\" class=\"sk-toggleable__label sk-toggleable__label-arrow\">RandomForestRegressor</label><div class=\"sk-toggleable__content\"><pre>RandomForestRegressor(random_state=31)</pre></div></div></div></div></div>"
      ],
      "text/plain": [
       "RandomForestRegressor(random_state=31)"
      ]
     },
     "execution_count": 60,
     "metadata": {},
     "output_type": "execute_result"
    }
   ],
   "source": [
    "forest_reg.fit(X_train_final,y_train)"
   ]
  },
  {
   "cell_type": "code",
   "execution_count": 61,
   "metadata": {},
   "outputs": [],
   "source": [
    "forest_reg_predict = forest_reg.predict(X_test_final)\n"
   ]
  },
  {
   "cell_type": "code",
   "execution_count": 62,
   "metadata": {},
   "outputs": [
    {
     "name": "stdout",
     "output_type": "stream",
     "text": [
      "Mean squared error: 0.049509264375000056\n",
      "Mean absolute error: 0.18132500000000026\n",
      "R2 score: -0.1023900810416496\n"
     ]
    }
   ],
   "source": [
    "\n",
    "print(\"Mean squared error:\",mean_squared_error(y_test,forest_reg_predict))\n",
    "print(\"Mean absolute error:\",mean_absolute_error(y_test,forest_reg_predict))\n",
    "print(\"R2 score:\",r2_score(y_test,forest_reg_predict))"
   ]
  },
  {
   "cell_type": "markdown",
   "metadata": {},
   "source": [
    "### Cross Validation Random Forest"
   ]
  },
  {
   "cell_type": "code",
   "execution_count": 63,
   "metadata": {},
   "outputs": [],
   "source": [
    "scores = cross_val_score(forest_reg, X_train_final, y_train,\n",
    "                         scoring=\"neg_mean_squared_error\", cv=10)\n",
    "forest_rmse_scores = np.sqrt(-scores)"
   ]
  },
  {
   "cell_type": "code",
   "execution_count": 64,
   "metadata": {},
   "outputs": [
    {
     "name": "stdout",
     "output_type": "stream",
     "text": [
      "Scores: [0.19075019 0.13475345 0.18123474 0.1480897  0.27337795 0.17942735\n",
      " 0.18938491 0.19378297 0.21735756 0.13908428]\n",
      "Mean: 0.1847243111721526\n",
      "Standard deviation: 0.03876456727575174\n"
     ]
    }
   ],
   "source": [
    "display_scores(forest_rmse_scores)"
   ]
  },
  {
   "cell_type": "markdown",
   "metadata": {},
   "source": [
    "### Extreme Gradient Boosting Regressor"
   ]
  },
  {
   "cell_type": "code",
   "execution_count": 65,
   "metadata": {},
   "outputs": [
    {
     "data": {
      "text/html": [
       "<style>#sk-container-id-4 {color: black;background-color: white;}#sk-container-id-4 pre{padding: 0;}#sk-container-id-4 div.sk-toggleable {background-color: white;}#sk-container-id-4 label.sk-toggleable__label {cursor: pointer;display: block;width: 100%;margin-bottom: 0;padding: 0.3em;box-sizing: border-box;text-align: center;}#sk-container-id-4 label.sk-toggleable__label-arrow:before {content: \"▸\";float: left;margin-right: 0.25em;color: #696969;}#sk-container-id-4 label.sk-toggleable__label-arrow:hover:before {color: black;}#sk-container-id-4 div.sk-estimator:hover label.sk-toggleable__label-arrow:before {color: black;}#sk-container-id-4 div.sk-toggleable__content {max-height: 0;max-width: 0;overflow: hidden;text-align: left;background-color: #f0f8ff;}#sk-container-id-4 div.sk-toggleable__content pre {margin: 0.2em;color: black;border-radius: 0.25em;background-color: #f0f8ff;}#sk-container-id-4 input.sk-toggleable__control:checked~div.sk-toggleable__content {max-height: 200px;max-width: 100%;overflow: auto;}#sk-container-id-4 input.sk-toggleable__control:checked~label.sk-toggleable__label-arrow:before {content: \"▾\";}#sk-container-id-4 div.sk-estimator input.sk-toggleable__control:checked~label.sk-toggleable__label {background-color: #d4ebff;}#sk-container-id-4 div.sk-label input.sk-toggleable__control:checked~label.sk-toggleable__label {background-color: #d4ebff;}#sk-container-id-4 input.sk-hidden--visually {border: 0;clip: rect(1px 1px 1px 1px);clip: rect(1px, 1px, 1px, 1px);height: 1px;margin: -1px;overflow: hidden;padding: 0;position: absolute;width: 1px;}#sk-container-id-4 div.sk-estimator {font-family: monospace;background-color: #f0f8ff;border: 1px dotted black;border-radius: 0.25em;box-sizing: border-box;margin-bottom: 0.5em;}#sk-container-id-4 div.sk-estimator:hover {background-color: #d4ebff;}#sk-container-id-4 div.sk-parallel-item::after {content: \"\";width: 100%;border-bottom: 1px solid gray;flex-grow: 1;}#sk-container-id-4 div.sk-label:hover label.sk-toggleable__label {background-color: #d4ebff;}#sk-container-id-4 div.sk-serial::before {content: \"\";position: absolute;border-left: 1px solid gray;box-sizing: border-box;top: 0;bottom: 0;left: 50%;z-index: 0;}#sk-container-id-4 div.sk-serial {display: flex;flex-direction: column;align-items: center;background-color: white;padding-right: 0.2em;padding-left: 0.2em;position: relative;}#sk-container-id-4 div.sk-item {position: relative;z-index: 1;}#sk-container-id-4 div.sk-parallel {display: flex;align-items: stretch;justify-content: center;background-color: white;position: relative;}#sk-container-id-4 div.sk-item::before, #sk-container-id-4 div.sk-parallel-item::before {content: \"\";position: absolute;border-left: 1px solid gray;box-sizing: border-box;top: 0;bottom: 0;left: 50%;z-index: -1;}#sk-container-id-4 div.sk-parallel-item {display: flex;flex-direction: column;z-index: 1;position: relative;background-color: white;}#sk-container-id-4 div.sk-parallel-item:first-child::after {align-self: flex-end;width: 50%;}#sk-container-id-4 div.sk-parallel-item:last-child::after {align-self: flex-start;width: 50%;}#sk-container-id-4 div.sk-parallel-item:only-child::after {width: 0;}#sk-container-id-4 div.sk-dashed-wrapped {border: 1px dashed gray;margin: 0 0.4em 0.5em 0.4em;box-sizing: border-box;padding-bottom: 0.4em;background-color: white;}#sk-container-id-4 div.sk-label label {font-family: monospace;font-weight: bold;display: inline-block;line-height: 1.2em;}#sk-container-id-4 div.sk-label-container {text-align: center;}#sk-container-id-4 div.sk-container {/* jupyter's `normalize.less` sets `[hidden] { display: none; }` but bootstrap.min.css set `[hidden] { display: none !important; }` so we also need the `!important` here to be able to override the default hidden behavior on the sphinx rendered scikit-learn.org. See: https://github.com/scikit-learn/scikit-learn/issues/21755 */display: inline-block !important;position: relative;}#sk-container-id-4 div.sk-text-repr-fallback {display: none;}</style><div id=\"sk-container-id-4\" class=\"sk-top-container\"><div class=\"sk-text-repr-fallback\"><pre>XGBRegressor(base_score=0.5, booster=&#x27;gbtree&#x27;, callbacks=None,\n",
       "             colsample_bylevel=1, colsample_bynode=1, colsample_bytree=1,\n",
       "             early_stopping_rounds=None, enable_categorical=False,\n",
       "             eval_metric=None, gamma=0, gpu_id=-1, grow_policy=&#x27;depthwise&#x27;,\n",
       "             importance_type=None, interaction_constraints=&#x27;&#x27;,\n",
       "             learning_rate=0.300000012, max_bin=256, max_cat_to_onehot=4,\n",
       "             max_delta_step=0, max_depth=6, max_leaves=0, min_child_weight=1,\n",
       "             missing=nan, monotone_constraints=&#x27;()&#x27;, n_estimators=100, n_jobs=0,\n",
       "             num_parallel_tree=1, predictor=&#x27;auto&#x27;, random_state=0, reg_alpha=0,\n",
       "             reg_lambda=1, ...)</pre><b>In a Jupyter environment, please rerun this cell to show the HTML representation or trust the notebook. <br />On GitHub, the HTML representation is unable to render, please try loading this page with nbviewer.org.</b></div><div class=\"sk-container\" hidden><div class=\"sk-item\"><div class=\"sk-estimator sk-toggleable\"><input class=\"sk-toggleable__control sk-hidden--visually\" id=\"sk-estimator-id-4\" type=\"checkbox\" checked><label for=\"sk-estimator-id-4\" class=\"sk-toggleable__label sk-toggleable__label-arrow\">XGBRegressor</label><div class=\"sk-toggleable__content\"><pre>XGBRegressor(base_score=0.5, booster=&#x27;gbtree&#x27;, callbacks=None,\n",
       "             colsample_bylevel=1, colsample_bynode=1, colsample_bytree=1,\n",
       "             early_stopping_rounds=None, enable_categorical=False,\n",
       "             eval_metric=None, gamma=0, gpu_id=-1, grow_policy=&#x27;depthwise&#x27;,\n",
       "             importance_type=None, interaction_constraints=&#x27;&#x27;,\n",
       "             learning_rate=0.300000012, max_bin=256, max_cat_to_onehot=4,\n",
       "             max_delta_step=0, max_depth=6, max_leaves=0, min_child_weight=1,\n",
       "             missing=nan, monotone_constraints=&#x27;()&#x27;, n_estimators=100, n_jobs=0,\n",
       "             num_parallel_tree=1, predictor=&#x27;auto&#x27;, random_state=0, reg_alpha=0,\n",
       "             reg_lambda=1, ...)</pre></div></div></div></div></div>"
      ],
      "text/plain": [
       "XGBRegressor(base_score=0.5, booster='gbtree', callbacks=None,\n",
       "             colsample_bylevel=1, colsample_bynode=1, colsample_bytree=1,\n",
       "             early_stopping_rounds=None, enable_categorical=False,\n",
       "             eval_metric=None, gamma=0, gpu_id=-1, grow_policy='depthwise',\n",
       "             importance_type=None, interaction_constraints='',\n",
       "             learning_rate=0.300000012, max_bin=256, max_cat_to_onehot=4,\n",
       "             max_delta_step=0, max_depth=6, max_leaves=0, min_child_weight=1,\n",
       "             missing=nan, monotone_constraints='()', n_estimators=100, n_jobs=0,\n",
       "             num_parallel_tree=1, predictor='auto', random_state=0, reg_alpha=0,\n",
       "             reg_lambda=1, ...)"
      ]
     },
     "execution_count": 65,
     "metadata": {},
     "output_type": "execute_result"
    }
   ],
   "source": [
    "xgb_reg.fit(X_train_final,y_train)"
   ]
  },
  {
   "cell_type": "code",
   "execution_count": 66,
   "metadata": {},
   "outputs": [],
   "source": [
    "xgb_reg_predict = xgb_reg.predict(X_test_final)\n"
   ]
  },
  {
   "cell_type": "code",
   "execution_count": 67,
   "metadata": {},
   "outputs": [
    {
     "name": "stdout",
     "output_type": "stream",
     "text": [
      "Mean squared merror: 0.051787001523612416\n",
      "Mean absolute error: 0.18018487989902487\n",
      "R2 score: -0.15310694931970614\n"
     ]
    }
   ],
   "source": [
    "print(\"Mean squared merror:\",mean_squared_error(y_test,xgb_reg_predict))\n",
    "print(\"Mean absolute error:\",mean_absolute_error(y_test,xgb_reg_predict))\n",
    "print(\"R2 score:\",r2_score(y_test,xgb_reg_predict))"
   ]
  },
  {
   "cell_type": "markdown",
   "metadata": {},
   "source": [
    "### Cross Validation Xtreme Gradient Boosting Regressor"
   ]
  },
  {
   "cell_type": "code",
   "execution_count": 68,
   "metadata": {},
   "outputs": [],
   "source": [
    "scores = cross_val_score(xgb_reg, X_train_final, y_train,\n",
    "                         scoring=\"neg_mean_squared_error\", cv=10)\n",
    "xgb_rmse_scores = np.sqrt(-scores)"
   ]
  },
  {
   "cell_type": "code",
   "execution_count": 69,
   "metadata": {},
   "outputs": [
    {
     "name": "stdout",
     "output_type": "stream",
     "text": [
      "Scores: [0.20183023 0.12178228 0.18276795 0.15978359 0.23943853 0.18533501\n",
      " 0.17763099 0.21063664 0.23289012 0.15047758]\n",
      "Mean: 0.186257291821273\n",
      "Standard deviation: 0.03473506088246\n"
     ]
    }
   ],
   "source": [
    "display_scores(xgb_rmse_scores)"
   ]
  },
  {
   "cell_type": "markdown",
   "metadata": {},
   "source": [
    "Membandingkan MSE antar model dan mencari mana yang paling rendah (dengan cross validation)"
   ]
  },
  {
   "cell_type": "code",
   "execution_count": 70,
   "metadata": {},
   "outputs": [
    {
     "name": "stdout",
     "output_type": "stream",
     "text": [
      "Linear Regression Score\n",
      "Scores: [0.19745335 0.12908534 0.18290552 0.17392874 0.25342016 0.18204567\n",
      " 0.22462996 0.18413901 0.18886322 0.16215508]\n",
      "Mean: 0.18786260623542872\n",
      "Standard deviation: 0.03181931234365971\n",
      "\n",
      "Desicion Tree Regression Score\n",
      "Scores: [0.27225554 0.24746406 0.19641009 0.18208198 0.26944387 0.23748684\n",
      " 0.15954262 0.20678863 0.22299103 0.15832456]\n",
      "Mean: 0.21527892163134005\n",
      "Standard deviation: 0.039559092490643016\n",
      "\n",
      "Random Forest Regression Score\n",
      "Scores: [0.19075019 0.13475345 0.18123474 0.1480897  0.27337795 0.17942735\n",
      " 0.18938491 0.19378297 0.21735756 0.13908428]\n",
      "Mean: 0.1847243111721526\n",
      "Standard deviation: 0.03876456727575174\n",
      "\n",
      "XGB Regression Score\n",
      "Scores: [0.20183023 0.12178228 0.18276795 0.15978359 0.23943853 0.18533501\n",
      " 0.17763099 0.21063664 0.23289012 0.15047758]\n",
      "Mean: 0.186257291821273\n",
      "Standard deviation: 0.03473506088246\n"
     ]
    }
   ],
   "source": [
    "print(\"Linear Regression Score\")\n",
    "display_scores(lin_rmse_scores)\n",
    "print()\n",
    "print(\"Desicion Tree Regression Score\")\n",
    "display_scores(tree_rmse_scores)\n",
    "print()\n",
    "print(\"Random Forest Regression Score\")\n",
    "display_scores(forest_rmse_scores)\n",
    "print()\n",
    "print(\"XGB Regression Score\")\n",
    "display_scores(xgb_rmse_scores)"
   ]
  },
  {
   "cell_type": "markdown",
   "metadata": {},
   "source": [
    "## Model Improvement"
   ]
  },
  {
   "cell_type": "markdown",
   "metadata": {},
   "source": [
    "Random Forest Regression Grid Search dengan Pipeline"
   ]
  },
  {
   "cell_type": "code",
   "execution_count": 71,
   "metadata": {},
   "outputs": [],
   "source": [
    "pipeline_forest = Pipeline([\n",
    "    ('regression',RandomForestRegressor(random_state=50))])\n",
    "\n",
    "forest_param = { \"regression__n_estimators\"      : [10,20,30],\n",
    "                 \"regression__max_features\"      : [\"sqrt\", \"log2\"],\n",
    "                 \"regression__min_samples_split\" : [2,4,8],\n",
    "                 \"regression__bootstrap\": [True, False],}\n"
   ]
  },
  {
   "cell_type": "code",
   "execution_count": 72,
   "metadata": {},
   "outputs": [],
   "source": [
    "forest_model = pipeline_forest.fit(X_train_final, y_train)"
   ]
  },
  {
   "cell_type": "code",
   "execution_count": 73,
   "metadata": {},
   "outputs": [
    {
     "name": "stdout",
     "output_type": "stream",
     "text": [
      "Fitting 10 folds for each of 36 candidates, totalling 360 fits\n"
     ]
    },
    {
     "data": {
      "text/html": [
       "<style>#sk-container-id-5 {color: black;background-color: white;}#sk-container-id-5 pre{padding: 0;}#sk-container-id-5 div.sk-toggleable {background-color: white;}#sk-container-id-5 label.sk-toggleable__label {cursor: pointer;display: block;width: 100%;margin-bottom: 0;padding: 0.3em;box-sizing: border-box;text-align: center;}#sk-container-id-5 label.sk-toggleable__label-arrow:before {content: \"▸\";float: left;margin-right: 0.25em;color: #696969;}#sk-container-id-5 label.sk-toggleable__label-arrow:hover:before {color: black;}#sk-container-id-5 div.sk-estimator:hover label.sk-toggleable__label-arrow:before {color: black;}#sk-container-id-5 div.sk-toggleable__content {max-height: 0;max-width: 0;overflow: hidden;text-align: left;background-color: #f0f8ff;}#sk-container-id-5 div.sk-toggleable__content pre {margin: 0.2em;color: black;border-radius: 0.25em;background-color: #f0f8ff;}#sk-container-id-5 input.sk-toggleable__control:checked~div.sk-toggleable__content {max-height: 200px;max-width: 100%;overflow: auto;}#sk-container-id-5 input.sk-toggleable__control:checked~label.sk-toggleable__label-arrow:before {content: \"▾\";}#sk-container-id-5 div.sk-estimator input.sk-toggleable__control:checked~label.sk-toggleable__label {background-color: #d4ebff;}#sk-container-id-5 div.sk-label input.sk-toggleable__control:checked~label.sk-toggleable__label {background-color: #d4ebff;}#sk-container-id-5 input.sk-hidden--visually {border: 0;clip: rect(1px 1px 1px 1px);clip: rect(1px, 1px, 1px, 1px);height: 1px;margin: -1px;overflow: hidden;padding: 0;position: absolute;width: 1px;}#sk-container-id-5 div.sk-estimator {font-family: monospace;background-color: #f0f8ff;border: 1px dotted black;border-radius: 0.25em;box-sizing: border-box;margin-bottom: 0.5em;}#sk-container-id-5 div.sk-estimator:hover {background-color: #d4ebff;}#sk-container-id-5 div.sk-parallel-item::after {content: \"\";width: 100%;border-bottom: 1px solid gray;flex-grow: 1;}#sk-container-id-5 div.sk-label:hover label.sk-toggleable__label {background-color: #d4ebff;}#sk-container-id-5 div.sk-serial::before {content: \"\";position: absolute;border-left: 1px solid gray;box-sizing: border-box;top: 0;bottom: 0;left: 50%;z-index: 0;}#sk-container-id-5 div.sk-serial {display: flex;flex-direction: column;align-items: center;background-color: white;padding-right: 0.2em;padding-left: 0.2em;position: relative;}#sk-container-id-5 div.sk-item {position: relative;z-index: 1;}#sk-container-id-5 div.sk-parallel {display: flex;align-items: stretch;justify-content: center;background-color: white;position: relative;}#sk-container-id-5 div.sk-item::before, #sk-container-id-5 div.sk-parallel-item::before {content: \"\";position: absolute;border-left: 1px solid gray;box-sizing: border-box;top: 0;bottom: 0;left: 50%;z-index: -1;}#sk-container-id-5 div.sk-parallel-item {display: flex;flex-direction: column;z-index: 1;position: relative;background-color: white;}#sk-container-id-5 div.sk-parallel-item:first-child::after {align-self: flex-end;width: 50%;}#sk-container-id-5 div.sk-parallel-item:last-child::after {align-self: flex-start;width: 50%;}#sk-container-id-5 div.sk-parallel-item:only-child::after {width: 0;}#sk-container-id-5 div.sk-dashed-wrapped {border: 1px dashed gray;margin: 0 0.4em 0.5em 0.4em;box-sizing: border-box;padding-bottom: 0.4em;background-color: white;}#sk-container-id-5 div.sk-label label {font-family: monospace;font-weight: bold;display: inline-block;line-height: 1.2em;}#sk-container-id-5 div.sk-label-container {text-align: center;}#sk-container-id-5 div.sk-container {/* jupyter's `normalize.less` sets `[hidden] { display: none; }` but bootstrap.min.css set `[hidden] { display: none !important; }` so we also need the `!important` here to be able to override the default hidden behavior on the sphinx rendered scikit-learn.org. See: https://github.com/scikit-learn/scikit-learn/issues/21755 */display: inline-block !important;position: relative;}#sk-container-id-5 div.sk-text-repr-fallback {display: none;}</style><div id=\"sk-container-id-5\" class=\"sk-top-container\"><div class=\"sk-text-repr-fallback\"><pre>GridSearchCV(cv=10,\n",
       "             estimator=Pipeline(steps=[(&#x27;regression&#x27;,\n",
       "                                        RandomForestRegressor(random_state=50))]),\n",
       "             n_jobs=1,\n",
       "             param_grid={&#x27;regression__bootstrap&#x27;: [True, False],\n",
       "                         &#x27;regression__max_features&#x27;: [&#x27;sqrt&#x27;, &#x27;log2&#x27;],\n",
       "                         &#x27;regression__min_samples_split&#x27;: [2, 4, 8],\n",
       "                         &#x27;regression__n_estimators&#x27;: [10, 20, 30]},\n",
       "             verbose=1)</pre><b>In a Jupyter environment, please rerun this cell to show the HTML representation or trust the notebook. <br />On GitHub, the HTML representation is unable to render, please try loading this page with nbviewer.org.</b></div><div class=\"sk-container\" hidden><div class=\"sk-item sk-dashed-wrapped\"><div class=\"sk-label-container\"><div class=\"sk-label sk-toggleable\"><input class=\"sk-toggleable__control sk-hidden--visually\" id=\"sk-estimator-id-5\" type=\"checkbox\" ><label for=\"sk-estimator-id-5\" class=\"sk-toggleable__label sk-toggleable__label-arrow\">GridSearchCV</label><div class=\"sk-toggleable__content\"><pre>GridSearchCV(cv=10,\n",
       "             estimator=Pipeline(steps=[(&#x27;regression&#x27;,\n",
       "                                        RandomForestRegressor(random_state=50))]),\n",
       "             n_jobs=1,\n",
       "             param_grid={&#x27;regression__bootstrap&#x27;: [True, False],\n",
       "                         &#x27;regression__max_features&#x27;: [&#x27;sqrt&#x27;, &#x27;log2&#x27;],\n",
       "                         &#x27;regression__min_samples_split&#x27;: [2, 4, 8],\n",
       "                         &#x27;regression__n_estimators&#x27;: [10, 20, 30]},\n",
       "             verbose=1)</pre></div></div></div><div class=\"sk-parallel\"><div class=\"sk-parallel-item\"><div class=\"sk-item\"><div class=\"sk-label-container\"><div class=\"sk-label sk-toggleable\"><input class=\"sk-toggleable__control sk-hidden--visually\" id=\"sk-estimator-id-6\" type=\"checkbox\" ><label for=\"sk-estimator-id-6\" class=\"sk-toggleable__label sk-toggleable__label-arrow\">estimator: Pipeline</label><div class=\"sk-toggleable__content\"><pre>Pipeline(steps=[(&#x27;regression&#x27;, RandomForestRegressor(random_state=50))])</pre></div></div></div><div class=\"sk-serial\"><div class=\"sk-item\"><div class=\"sk-serial\"><div class=\"sk-item\"><div class=\"sk-estimator sk-toggleable\"><input class=\"sk-toggleable__control sk-hidden--visually\" id=\"sk-estimator-id-7\" type=\"checkbox\" ><label for=\"sk-estimator-id-7\" class=\"sk-toggleable__label sk-toggleable__label-arrow\">RandomForestRegressor</label><div class=\"sk-toggleable__content\"><pre>RandomForestRegressor(random_state=50)</pre></div></div></div></div></div></div></div></div></div></div></div></div>"
      ],
      "text/plain": [
       "GridSearchCV(cv=10,\n",
       "             estimator=Pipeline(steps=[('regression',\n",
       "                                        RandomForestRegressor(random_state=50))]),\n",
       "             n_jobs=1,\n",
       "             param_grid={'regression__bootstrap': [True, False],\n",
       "                         'regression__max_features': ['sqrt', 'log2'],\n",
       "                         'regression__min_samples_split': [2, 4, 8],\n",
       "                         'regression__n_estimators': [10, 20, 30]},\n",
       "             verbose=1)"
      ]
     },
     "execution_count": 73,
     "metadata": {},
     "output_type": "execute_result"
    }
   ],
   "source": [
    "grid_forest = GridSearchCV(pipeline_forest, forest_param, cv=10, n_jobs = 1, verbose=1)\n",
    "\n",
    "grid_forest.fit(X_train_final,y_train)"
   ]
  },
  {
   "cell_type": "code",
   "execution_count": 74,
   "metadata": {},
   "outputs": [
    {
     "name": "stdout",
     "output_type": "stream",
     "text": [
      "Best parameters:  {'regression__bootstrap': True, 'regression__max_features': 'log2', 'regression__min_samples_split': 4, 'regression__n_estimators': 20}\n"
     ]
    }
   ],
   "source": [
    "#best parameter forest\n",
    "print(\"Best parameters: \", grid_forest.best_params_)"
   ]
  },
  {
   "cell_type": "code",
   "execution_count": 75,
   "metadata": {},
   "outputs": [
    {
     "data": {
      "text/html": [
       "<style>#sk-container-id-6 {color: black;background-color: white;}#sk-container-id-6 pre{padding: 0;}#sk-container-id-6 div.sk-toggleable {background-color: white;}#sk-container-id-6 label.sk-toggleable__label {cursor: pointer;display: block;width: 100%;margin-bottom: 0;padding: 0.3em;box-sizing: border-box;text-align: center;}#sk-container-id-6 label.sk-toggleable__label-arrow:before {content: \"▸\";float: left;margin-right: 0.25em;color: #696969;}#sk-container-id-6 label.sk-toggleable__label-arrow:hover:before {color: black;}#sk-container-id-6 div.sk-estimator:hover label.sk-toggleable__label-arrow:before {color: black;}#sk-container-id-6 div.sk-toggleable__content {max-height: 0;max-width: 0;overflow: hidden;text-align: left;background-color: #f0f8ff;}#sk-container-id-6 div.sk-toggleable__content pre {margin: 0.2em;color: black;border-radius: 0.25em;background-color: #f0f8ff;}#sk-container-id-6 input.sk-toggleable__control:checked~div.sk-toggleable__content {max-height: 200px;max-width: 100%;overflow: auto;}#sk-container-id-6 input.sk-toggleable__control:checked~label.sk-toggleable__label-arrow:before {content: \"▾\";}#sk-container-id-6 div.sk-estimator input.sk-toggleable__control:checked~label.sk-toggleable__label {background-color: #d4ebff;}#sk-container-id-6 div.sk-label input.sk-toggleable__control:checked~label.sk-toggleable__label {background-color: #d4ebff;}#sk-container-id-6 input.sk-hidden--visually {border: 0;clip: rect(1px 1px 1px 1px);clip: rect(1px, 1px, 1px, 1px);height: 1px;margin: -1px;overflow: hidden;padding: 0;position: absolute;width: 1px;}#sk-container-id-6 div.sk-estimator {font-family: monospace;background-color: #f0f8ff;border: 1px dotted black;border-radius: 0.25em;box-sizing: border-box;margin-bottom: 0.5em;}#sk-container-id-6 div.sk-estimator:hover {background-color: #d4ebff;}#sk-container-id-6 div.sk-parallel-item::after {content: \"\";width: 100%;border-bottom: 1px solid gray;flex-grow: 1;}#sk-container-id-6 div.sk-label:hover label.sk-toggleable__label {background-color: #d4ebff;}#sk-container-id-6 div.sk-serial::before {content: \"\";position: absolute;border-left: 1px solid gray;box-sizing: border-box;top: 0;bottom: 0;left: 50%;z-index: 0;}#sk-container-id-6 div.sk-serial {display: flex;flex-direction: column;align-items: center;background-color: white;padding-right: 0.2em;padding-left: 0.2em;position: relative;}#sk-container-id-6 div.sk-item {position: relative;z-index: 1;}#sk-container-id-6 div.sk-parallel {display: flex;align-items: stretch;justify-content: center;background-color: white;position: relative;}#sk-container-id-6 div.sk-item::before, #sk-container-id-6 div.sk-parallel-item::before {content: \"\";position: absolute;border-left: 1px solid gray;box-sizing: border-box;top: 0;bottom: 0;left: 50%;z-index: -1;}#sk-container-id-6 div.sk-parallel-item {display: flex;flex-direction: column;z-index: 1;position: relative;background-color: white;}#sk-container-id-6 div.sk-parallel-item:first-child::after {align-self: flex-end;width: 50%;}#sk-container-id-6 div.sk-parallel-item:last-child::after {align-self: flex-start;width: 50%;}#sk-container-id-6 div.sk-parallel-item:only-child::after {width: 0;}#sk-container-id-6 div.sk-dashed-wrapped {border: 1px dashed gray;margin: 0 0.4em 0.5em 0.4em;box-sizing: border-box;padding-bottom: 0.4em;background-color: white;}#sk-container-id-6 div.sk-label label {font-family: monospace;font-weight: bold;display: inline-block;line-height: 1.2em;}#sk-container-id-6 div.sk-label-container {text-align: center;}#sk-container-id-6 div.sk-container {/* jupyter's `normalize.less` sets `[hidden] { display: none; }` but bootstrap.min.css set `[hidden] { display: none !important; }` so we also need the `!important` here to be able to override the default hidden behavior on the sphinx rendered scikit-learn.org. See: https://github.com/scikit-learn/scikit-learn/issues/21755 */display: inline-block !important;position: relative;}#sk-container-id-6 div.sk-text-repr-fallback {display: none;}</style><div id=\"sk-container-id-6\" class=\"sk-top-container\"><div class=\"sk-text-repr-fallback\"><pre>Pipeline(steps=[(&#x27;regression&#x27;,\n",
       "                 RandomForestRegressor(max_features=&#x27;log2&#x27;, min_samples_split=4,\n",
       "                                       n_estimators=20, random_state=50))])</pre><b>In a Jupyter environment, please rerun this cell to show the HTML representation or trust the notebook. <br />On GitHub, the HTML representation is unable to render, please try loading this page with nbviewer.org.</b></div><div class=\"sk-container\" hidden><div class=\"sk-item sk-dashed-wrapped\"><div class=\"sk-label-container\"><div class=\"sk-label sk-toggleable\"><input class=\"sk-toggleable__control sk-hidden--visually\" id=\"sk-estimator-id-8\" type=\"checkbox\" ><label for=\"sk-estimator-id-8\" class=\"sk-toggleable__label sk-toggleable__label-arrow\">Pipeline</label><div class=\"sk-toggleable__content\"><pre>Pipeline(steps=[(&#x27;regression&#x27;,\n",
       "                 RandomForestRegressor(max_features=&#x27;log2&#x27;, min_samples_split=4,\n",
       "                                       n_estimators=20, random_state=50))])</pre></div></div></div><div class=\"sk-serial\"><div class=\"sk-item\"><div class=\"sk-estimator sk-toggleable\"><input class=\"sk-toggleable__control sk-hidden--visually\" id=\"sk-estimator-id-9\" type=\"checkbox\" ><label for=\"sk-estimator-id-9\" class=\"sk-toggleable__label sk-toggleable__label-arrow\">RandomForestRegressor</label><div class=\"sk-toggleable__content\"><pre>RandomForestRegressor(max_features=&#x27;log2&#x27;, min_samples_split=4, n_estimators=20,\n",
       "                      random_state=50)</pre></div></div></div></div></div></div></div>"
      ],
      "text/plain": [
       "Pipeline(steps=[('regression',\n",
       "                 RandomForestRegressor(max_features='log2', min_samples_split=4,\n",
       "                                       n_estimators=20, random_state=50))])"
      ]
     },
     "execution_count": 75,
     "metadata": {},
     "output_type": "execute_result"
    }
   ],
   "source": [
    "grid_forest.best_estimator_"
   ]
  },
  {
   "cell_type": "markdown",
   "metadata": {},
   "source": [
    "## Model Evaluation"
   ]
  },
  {
   "cell_type": "code",
   "execution_count": 76,
   "metadata": {},
   "outputs": [],
   "source": [
    "#Predict train set and test set random_forest hyperparameter\n",
    "y_pred_train_forest_grid = grid_forest.predict(X_train_final)\n",
    "y_pred_test_forest_grid = grid_forest.predict(X_test_final)"
   ]
  },
  {
   "cell_type": "code",
   "execution_count": 77,
   "metadata": {},
   "outputs": [
    {
     "name": "stdout",
     "output_type": "stream",
     "text": [
      "MAE Train-Set  :  0.06771712944173877\n",
      "MAE Test-Set  :  0.17835244915674592\n",
      "\n",
      "MSE Train-Set  :  0.007761658602453845\n",
      "MSE Test-Set  :  0.04517616699625339\n",
      "\n",
      "RMSE Train-Set  :  0.08810027583642314\n",
      "RMSE Test-Set  :  0.21254685835423065\n",
      "\n",
      "R2 Train-Set  :  0.8220091857808862\n",
      "R2 Test-Set  :  -0.005907864413726038\n"
     ]
    }
   ],
   "source": [
    "print('MAE Train-Set  : ', mean_absolute_error(y_train, y_pred_train_forest_grid))\n",
    "print('MAE Test-Set  : ', mean_absolute_error(y_test, y_pred_test_forest_grid))\n",
    "print()\n",
    "print('MSE Train-Set  : ', mean_squared_error(y_train, y_pred_train_forest_grid))\n",
    "print('MSE Test-Set  : ', mean_squared_error(y_test, y_pred_test_forest_grid))\n",
    "print()\n",
    "print('RMSE Train-Set  : ', np.sqrt(mean_squared_error(y_train, y_pred_train_forest_grid)))\n",
    "print('RMSE Test-Set  : ', np.sqrt(mean_squared_error(y_test, y_pred_test_forest_grid)))\n",
    "print()\n",
    "print('R2 Train-Set  : ', r2_score(y_train, y_pred_train_forest_grid))\n",
    "print('R2 Test-Set  : ', r2_score(y_test, y_pred_test_forest_grid))"
   ]
  },
  {
   "attachments": {},
   "cell_type": "markdown",
   "metadata": {},
   "source": [
    "### Model Saving"
   ]
  },
  {
   "cell_type": "code",
   "execution_count": 78,
   "metadata": {},
   "outputs": [],
   "source": [
    "# Model Saving\n",
    "\n",
    "import json\n",
    "\n",
    "with open('model_forest_tuning.pkl', 'wb') as file_model:\n",
    "  pickle.dump(grid_forest, file_model)\n",
    "\n",
    "with open('scaler.pkl', 'wb') as file_scaler:\n",
    "  pickle.dump(num_pipeline, file_scaler)\n",
    "\n",
    "with open('list_num_cols.txt', 'w') as file_num:\n",
    "  json.dump(num_columns, file_num)"
   ]
  }
 ],
 "metadata": {
  "kernelspec": {
   "display_name": "Python 3",
   "language": "python",
   "name": "python3"
  },
  "language_info": {
   "codemirror_mode": {
    "name": "ipython",
    "version": 3
   },
   "file_extension": ".py",
   "mimetype": "text/x-python",
   "name": "python",
   "nbconvert_exporter": "python",
   "pygments_lexer": "ipython3",
   "version": "3.10.5"
  },
  "orig_nbformat": 4,
  "vscode": {
   "interpreter": {
    "hash": "aa24d1753723fb44936862a0479a9c898341c4bbf00849cc75b84e50be8d531a"
   }
  }
 },
 "nbformat": 4,
 "nbformat_minor": 2
}
